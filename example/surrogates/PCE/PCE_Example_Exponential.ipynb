{
 "cells": [
  {
   "cell_type": "markdown",
   "metadata": {},
   "source": [
    "### Polynomial Chaos Expansion example: Exponential function (3 random inputs, scalar output)"
   ]
  },
  {
   "cell_type": "markdown",
   "metadata": {},
   "source": [
    "Authors: Katiana Kontolati, Dimitrios Loukrezis \\\n",
    "Date: May 7, 2021"
   ]
  },
  {
   "cell_type": "markdown",
   "metadata": {},
   "source": [
    "In this example, PCE is used to generate a surrogate model for a given set of 3D data."
   ]
  },
  {
   "cell_type": "markdown",
   "metadata": {},
   "source": [
    "### Dette & Pepelyshev exponential function"
   ]
  },
  {
   "cell_type": "markdown",
   "metadata": {},
   "source": [
    "$$ f(x) = 100(\\exp{(-2/x_1^{1.75})} + \\exp{(-2/x_2^{1.5})} + \\exp{(-2/x_3^{1.25})})$$\n",
    "\n",
    "**Description:**  Dimensions: 3\n",
    "\n",
    "**Input Domain:**  This function is evaluated on the hypercube $x_i \\in [0,1]$ for all i = 1,2,3.\n",
    "\n",
    "**Reference:**  Dette, H., & Pepelyshev, A. (2010). Generalized Latin hypercube design for computer experiments. Technometrics, 52(4)."
   ]
  },
  {
   "cell_type": "markdown",
   "metadata": {},
   "source": [
    "Import necessary libraries."
   ]
  },
  {
   "cell_type": "code",
   "execution_count": 1,
   "metadata": {},
   "outputs": [
    {
     "name": "stderr",
     "output_type": "stream",
     "text": [
      "/opt/anaconda3/envs/UQpy_39/lib/python3.9/site-packages/beartype/_util/hint/pep/utilpeptest.py:396: BeartypeDecorHintPepDeprecatedWarning: Type hint typing.Callable deprecated by PEP 585. To resolve this, globally replace this hint by the equivalent PEP 585 type hint (e.g., \"typing.List[int]\" by \"list[int]\"). See also:\n",
      "    https://www.python.org/dev/peps/pep-0585\n",
      "  warn(warning_message, BeartypeDecorHintPepDeprecatedWarning)\n",
      "/opt/anaconda3/envs/UQpy_39/lib/python3.9/site-packages/beartype/_util/hint/pep/utilpeptest.py:396: BeartypeDecorHintPepDeprecatedWarning: Type hint typing.Callable deprecated by PEP 585. To resolve this, globally replace this hint by the equivalent PEP 585 type hint (e.g., \"typing.List[int]\" by \"list[int]\"). See also:\n",
      "    https://www.python.org/dev/peps/pep-0585\n",
      "  warn(warning_message, BeartypeDecorHintPepDeprecatedWarning)\n",
      "The selected optimizer method does not support bounds and thus will be ignored.\n",
      "The selected optimizer method does not support bounds and thus will be ignored.\n"
     ]
    }
   ],
   "source": [
    "import math\n",
    "import numpy as np\n",
    "import matplotlib.pyplot as plt\n",
    "from UQpy.distributions import Uniform, JointIndependent\n",
    "from UQpy.surrogates import *"
   ]
  },
  {
   "cell_type": "markdown",
   "metadata": {},
   "source": [
    "Define the function."
   ]
  },
  {
   "cell_type": "code",
   "execution_count": 2,
   "metadata": {},
   "outputs": [],
   "source": [
    "def function(x):\n",
    "    return 100*(np.exp(-2/(x[:,0]**1.75)) + np.exp(-2/(x[:,1]**1.5)) + np.exp(-2/(x[:,2]**1.25)))"
   ]
  },
  {
   "cell_type": "markdown",
   "metadata": {},
   "source": [
    "Define the input probability distributions."
   ]
  },
  {
   "cell_type": "code",
   "execution_count": 3,
   "metadata": {},
   "outputs": [],
   "source": [
    "# input distributions\n",
    "dist = Uniform(loc=0, scale=1)   \n",
    "marg = [dist]*3\n",
    "joint = JointIndependent(marginals=marg)"
   ]
  },
  {
   "cell_type": "markdown",
   "metadata": {},
   "source": [
    "Compute reference mean and variance values using Monte Carlo sampling."
   ]
  },
  {
   "cell_type": "code",
   "execution_count": 4,
   "metadata": {},
   "outputs": [],
   "source": [
    "# reference moments via Monte Carlo Sampling\n",
    "n_samples_mc = 1000000\n",
    "xx = joint.rvs(n_samples_mc)\n",
    "yy = function(xx)\n",
    "mean_ref = yy.mean()\n",
    "var_ref = yy.var()"
   ]
  },
  {
   "cell_type": "markdown",
   "metadata": {},
   "source": [
    "Create validation data sets, to be used later to estimate the accuracy of the PCE."
   ]
  },
  {
   "cell_type": "code",
   "execution_count": 5,
   "metadata": {},
   "outputs": [],
   "source": [
    "# validation data sets\n",
    "n_samples_val = 1000\n",
    "xx_val = joint.rvs(n_samples_val)\n",
    "yy_val = function(xx_val)"
   ]
  },
  {
   "cell_type": "markdown",
   "metadata": {},
   "source": [
    "Assess the PCE in terms of approximation and moment estimation accuracy, for increasing maximum polynomial degree."
   ]
  },
  {
   "cell_type": "code",
   "execution_count": 6,
   "metadata": {},
   "outputs": [
    {
     "name": "stdout",
     "output_type": "stream",
     "text": [
      " \n",
      "Total degree:  1\n",
      "Size of basis: 4\n",
      "Sampling coefficient:  5\n",
      "Training data:  20\n",
      "Validation error in the l2 norm: 131.3465239883022\n",
      "Relative error in the mean: 0.06826725227924814\n",
      "Relative error in the variance: 0.1931864122396396\n",
      " \n",
      "Total degree:  2\n",
      "Size of basis: 10\n",
      "Sampling coefficient:  5\n",
      "Training data:  50\n",
      "Validation error in the l2 norm: 32.98211628105578\n",
      "Relative error in the mean: 0.006675799021951427\n",
      "Relative error in the variance: 0.023289449727222914\n",
      " \n",
      "Total degree:  3\n",
      "Size of basis: 20\n",
      "Sampling coefficient:  5\n",
      "Training data:  100\n",
      "Validation error in the l2 norm: 11.171452700798433\n",
      "Relative error in the mean: 0.004714364890305709\n",
      "Relative error in the variance: 0.03021351001447834\n",
      " \n",
      "Total degree:  4\n",
      "Size of basis: 35\n",
      "Sampling coefficient:  5\n",
      "Training data:  175\n",
      "Validation error in the l2 norm: 6.42101300057029\n",
      "Relative error in the mean: 0.0003345118559675171\n",
      "Relative error in the variance: 0.004699183670080884\n",
      " \n",
      "Total degree:  5\n",
      "Size of basis: 56\n",
      "Sampling coefficient:  5\n",
      "Training data:  280\n",
      "Validation error in the l2 norm: 2.0912613724986984\n",
      "Relative error in the mean: 0.0010246460874726235\n",
      "Relative error in the variance: 0.001279086933718445\n",
      " \n",
      "Total degree:  6\n",
      "Size of basis: 84\n",
      "Sampling coefficient:  5\n",
      "Training data:  420\n",
      "Validation error in the l2 norm: 1.4586050622070506\n",
      "Relative error in the mean: 0.0004071575645470359\n",
      "Relative error in the variance: 0.0027483602094130755\n",
      " \n",
      "Total degree:  7\n",
      "Size of basis: 120\n",
      "Sampling coefficient:  5\n",
      "Training data:  600\n",
      "Validation error in the l2 norm: 0.6464653512874973\n",
      "Relative error in the mean: 0.000104467112132625\n",
      "Relative error in the variance: 0.0003001618865640059\n",
      " \n",
      "Total degree:  8\n",
      "Size of basis: 165\n",
      "Sampling coefficient:  5\n",
      "Training data:  825\n",
      "Validation error in the l2 norm: 0.3426263221144026\n",
      "Relative error in the mean: 0.00022554329309834635\n",
      "Relative error in the variance: 0.00034869382650469695\n",
      " \n",
      "Total degree:  9\n",
      "Size of basis: 220\n",
      "Sampling coefficient:  5\n",
      "Training data:  1100\n",
      "Validation error in the l2 norm: 0.16163492910151428\n",
      "Relative error in the mean: 0.00017711282071214386\n",
      "Relative error in the variance: 0.00048506350179371296\n"
     ]
    }
   ],
   "source": [
    "# construct PCE surrogate models\n",
    "l2_err = []\n",
    "mean_err = []\n",
    "var_err = []\n",
    "for max_degree in range(1,10):\n",
    "    print(' ')\n",
    "    \n",
    "    # PCE basis\n",
    "    print('Total degree: ', max_degree)\n",
    "    polynomial_basis = PolynomialBasis.create_total_degree_basis(joint, max_degree)\n",
    "    print('Size of basis:', polynomial_basis.polynomials_number)\n",
    "    \n",
    "    # generate training data\n",
    "    sampling_coeff = 5\n",
    "    print('Sampling coefficient: ', sampling_coeff)\n",
    "    np.random.seed(42)\n",
    "    n_samples = math.ceil(sampling_coeff*polynomial_basis.polynomials_number)\n",
    "    print('Training data: ', n_samples)\n",
    "    xx_train = joint.rvs(n_samples)\n",
    "    yy_train = function(xx_train)\n",
    "    \n",
    "    # fit model\n",
    "    least_squares = LeastSquareRegression()\n",
    "    pce_metamodel = PolynomialChaosExpansion(polynomial_basis=polynomial_basis, regression_method=least_squares)\n",
    "    pce_metamodel.fit(xx_train, yy_train)\n",
    "    \n",
    "    # validation errors\n",
    "    yy_val_pce = pce_metamodel.predict(xx_val)\n",
    "    errors = np.abs(yy_val - yy_val_pce.flatten())\n",
    "    error_l2 = np.linalg.norm(errors)\n",
    "    l2_err.append(error_l2)\n",
    "    print('Validation error in the l2 norm:', error_l2)\n",
    "    \n",
    "    # moment errors\n",
    "    pce_moments = pce_metamodel.get_moments()\n",
    "    mean_pce=pce_moments[0]\n",
    "    var_pce = pce_moments[1]\n",
    "    mean_err.append(np.abs((mean_pce - mean_ref)/mean_ref))\n",
    "    var_err.append(np.abs((var_pce - var_ref)/var_ref))\n",
    "    print('Relative error in the mean:', mean_err[-1])\n",
    "    print('Relative error in the variance:', var_err[-1])"
   ]
  },
  {
   "cell_type": "code",
   "execution_count": null,
   "metadata": {},
   "outputs": [],
   "source": []
  }
 ],
 "metadata": {
  "kernelspec": {
   "display_name": "Python 3 (ipykernel)",
   "language": "python",
   "name": "python3"
  },
  "language_info": {
   "codemirror_mode": {
    "name": "ipython",
    "version": 3
   },
   "file_extension": ".py",
   "mimetype": "text/x-python",
   "name": "python",
   "nbconvert_exporter": "python",
   "pygments_lexer": "ipython3",
   "version": "3.9.6"
  }
 },
 "nbformat": 4,
 "nbformat_minor": 4
}
