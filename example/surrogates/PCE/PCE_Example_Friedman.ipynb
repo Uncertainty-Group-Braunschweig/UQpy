{
 "cells": [
  {
   "cell_type": "markdown",
   "metadata": {},
   "source": [
    "## Polynomial Chaos Expansion example: Friedman function (5 random inputs, scalar output)"
   ]
  },
  {
   "cell_type": "markdown",
   "metadata": {},
   "source": [
    "Author: Katiana Kontolati, Dimitrios Loukrezis \\\n",
    "Date: May 7, 2021"
   ]
  },
  {
   "cell_type": "markdown",
   "metadata": {},
   "source": [
    "In this example, PCE is used to generate a surrogate model for a given set of 5D data."
   ]
  },
  {
   "cell_type": "markdown",
   "metadata": {},
   "source": [
    "### Friedman function"
   ]
  },
  {
   "cell_type": "markdown",
   "metadata": {},
   "source": [
    "$$ f(x) = 10 sin(\\pi x_1x_2) + 20(x_3 - 0.5)^2 + 10x_4 + 5x_5$$\n",
    "\n",
    "**Description:**  Dimensions: 5\n",
    "\n",
    "**Input Domain:**  This function is evaluated on the hypercube $x_i \\in [0,1]$ for all i = 1, …, 5.\n",
    "\n",
    "**Reference:**  Friedman, J. H. (1991). Multivariate adaptive regression splines. The annals of statistics, 19(1), 1-67."
   ]
  },
  {
   "cell_type": "markdown",
   "metadata": {},
   "source": [
    "Import necessary libraries."
   ]
  },
  {
   "cell_type": "code",
   "execution_count": 1,
   "metadata": {},
   "outputs": [],
   "source": [
    "import numpy as np\n",
    "import matplotlib.pyplot as plt\n",
    "from UQpy.distributions import Uniform, JointIndependent\n",
    "from UQpy.surrogates import *"
   ]
  },
  {
   "cell_type": "markdown",
   "metadata": {},
   "source": [
    "Define the function."
   ]
  },
  {
   "cell_type": "code",
   "execution_count": 2,
   "metadata": {},
   "outputs": [],
   "source": [
    "def function(x):\n",
    "    return 10*np.sin(np.pi*x[:,0]*x[:,1]) + 20*(x[:,2]-0.5)**2 + 10*x[:,3] + 5*x[:,4]"
   ]
  },
  {
   "cell_type": "markdown",
   "metadata": {},
   "source": [
    "Create a distribution object, generate samples and evaluate the function at the samples."
   ]
  },
  {
   "cell_type": "code",
   "execution_count": 3,
   "metadata": {},
   "outputs": [],
   "source": [
    "np.random.seed(1)\n",
    "\n",
    "dist = Uniform(loc=0, scale=1)  \n",
    "\n",
    "marg = [dist]*5\n",
    "joint = JointIndependent(marginals=marg)\n",
    "\n",
    "n_samples = 200\n",
    "x = joint.rvs(n_samples)\n",
    "y = function(x)  "
   ]
  },
  {
   "cell_type": "markdown",
   "metadata": {},
   "source": [
    "Create an object from the PCE class. Then compute PCE coefficients using least squares regression."
   ]
  },
  {
   "cell_type": "code",
   "execution_count": 4,
   "metadata": {},
   "outputs": [],
   "source": [
    "max_degree = 3\n",
    "\n",
    "polynomial_basis = PolynomialBasis.create_total_degree_basis(joint, max_degree)\n",
    "least_squares = LeastSquareRegression()\n",
    "pce = PolynomialChaosExpansion(polynomial_basis=polynomial_basis, regression_method=least_squares)\n",
    "pce.fit(x,y)"
   ]
  },
  {
   "cell_type": "markdown",
   "metadata": {},
   "source": [
    "Compute PCE coefficients using Lasso regression."
   ]
  },
  {
   "cell_type": "code",
   "execution_count": 5,
   "metadata": {},
   "outputs": [],
   "source": [
    "polynomial_basis = PolynomialBasis.create_total_degree_basis(joint, max_degree)\n",
    "lasso = LassoRegression()\n",
    "pce2 = PolynomialChaosExpansion(polynomial_basis=polynomial_basis, regression_method=lasso)\n",
    "pce2.fit(x,y)"
   ]
  },
  {
   "cell_type": "markdown",
   "metadata": {},
   "source": [
    "Compute PCE coefficients using Ridge regression."
   ]
  },
  {
   "cell_type": "code",
   "execution_count": 6,
   "metadata": {},
   "outputs": [],
   "source": [
    "polynomial_basis = PolynomialBasis.create_total_degree_basis(joint, max_degree)\n",
    "ridge = RidgeRegression()\n",
    "pce3 = PolynomialChaosExpansion(polynomial_basis=polynomial_basis, regression_method=ridge)\n",
    "pce3.fit(x,y)"
   ]
  },
  {
   "cell_type": "markdown",
   "metadata": {},
   "source": [
    "### Error Estimation"
   ]
  },
  {
   "cell_type": "markdown",
   "metadata": {},
   "source": [
    "Validation error."
   ]
  },
  {
   "cell_type": "code",
   "execution_count": 7,
   "metadata": {},
   "outputs": [
    {
     "name": "stdout",
     "output_type": "stream",
     "text": [
      "Validation error, LSTSQ-PCE: 0.022952373223257733\n",
      "Validation error, LASSO-PCE: 0.02219733242617478\n",
      "Validation error, Ridge-PCE: 0.024639877369417387\n"
     ]
    }
   ],
   "source": [
    "n_samples = 100\n",
    "x_val = joint.rvs(n_samples)\n",
    "y_val = function(x_val)\n",
    "\n",
    "y_pce = pce.predict(x_val).flatten()\n",
    "y_pce2 = pce2.predict(x_val).flatten()\n",
    "y_pce3 = pce3.predict(x_val).flatten()\n",
    "\n",
    "error = np.sum(np.abs(y_pce - y_val)/np.abs(y_val))/n_samples\n",
    "error2 = np.sum(np.abs(y_pce2 - y_val)/np.abs(y_val))/n_samples\n",
    "error3 = np.sum(np.abs(y_pce3 - y_val)/np.abs(y_val))/n_samples\n",
    "\n",
    "print('Validation error, LSTSQ-PCE:', error)\n",
    "print('Validation error, LASSO-PCE:', error2)\n",
    "print('Validation error, Ridge-PCE:', error3)"
   ]
  },
  {
   "cell_type": "markdown",
   "metadata": {},
   "source": [
    "### Moment Estimation"
   ]
  },
  {
   "cell_type": "markdown",
   "metadata": {},
   "source": [
    "Returns mean and variance of the PCE surrogate."
   ]
  },
  {
   "cell_type": "code",
   "execution_count": 8,
   "metadata": {},
   "outputs": [
    {
     "name": "stdout",
     "output_type": "stream",
     "text": [
      "Moments from least squares regression : (14.3863, 23.8063)\n",
      "Moments from LASSO regression : (14.3848, 23.6364)\n",
      "Moments from Ridge regression : (14.3656, 23.3882)\n",
      "Moments from MC integration:  14.414000929081066 23.852139481345674\n"
     ]
    }
   ],
   "source": [
    "n_mc = 1000000\n",
    "x_mc = joint.rvs(n_mc)\n",
    "y_mc = function(x_mc)    \n",
    "mean_mc = np.mean(y_mc)\n",
    "var_mc = np.var(y_mc)\n",
    "\n",
    "print('Moments from least squares regression :', pce.get_moments())\n",
    "print('Moments from LASSO regression :', pce2.get_moments())\n",
    "print('Moments from Ridge regression :', pce3.get_moments())\n",
    "print('Moments from MC integration: ', mean_mc, var_mc)"
   ]
  },
  {
   "cell_type": "code",
   "execution_count": null,
   "metadata": {},
   "outputs": [],
   "source": []
  }
 ],
 "metadata": {
  "kernelspec": {
   "display_name": "Python 3 (ipykernel)",
   "language": "python",
   "name": "python3"
  },
  "language_info": {
   "codemirror_mode": {
    "name": "ipython",
    "version": 3
   },
   "file_extension": ".py",
   "mimetype": "text/x-python",
   "name": "python",
   "nbconvert_exporter": "python",
   "pygments_lexer": "ipython3",
   "version": "3.9.6"
  }
 },
 "nbformat": 4,
 "nbformat_minor": 4
}
