{
 "cells": [
  {
   "cell_type": "markdown",
   "metadata": {},
   "source": [
    "# Grassmann Manifold\n",
    "\n",
    "Author: Ketson R. M. dos Santos,  \n",
    "Date: June 3rd, 2020   \n",
    "\n",
    "This example shows how to use the UQpy Grassmann class to\n",
    "* compute distances;"
   ]
  },
  {
   "cell_type": "markdown",
   "metadata": {},
   "source": [
    "Import the necessary libraries. Here we import standard libraries such as numpy and matplotlib, but also need to import the Grassmann class from UQpy implemented in the DimensionReduction module."
   ]
  },
  {
   "cell_type": "code",
   "execution_count": null,
   "metadata": {},
   "outputs": [],
   "source": [
    "import numpy as np\n",
    "import matplotlib\n",
    "import matplotlib.pyplot as plt\n",
    "from mpl_toolkits.axes_grid1 import make_axes_locatable\n",
    "from UQpy import SvdProjection\n",
    "import sys\n",
    "from UQpy import GrassmannDistance, RiemannianDistance\n",
    "\n",
    "from UQpy.dimension_reduction import Grassmann"
   ]
  },
  {
   "cell_type": "markdown",
   "metadata": {},
   "source": [
    "Generate four random matrices with reduced rank corresponding to the different samples. The samples are stored in `matrices`."
   ]
  },
  {
   "cell_type": "code",
   "execution_count": null,
   "metadata": {},
   "outputs": [],
   "source": [
    "D1 = 6\n",
    "r0 = 2  # rank sample 0\n",
    "r1 = 3  # rank sample 1\n",
    "r2 = 4  # rank sample 2\n",
    "r3 = 3  # rank sample 2\n",
    "\n",
    "np.random.seed(1111)  # For reproducibility.\n",
    "# Solutions: original space.\n",
    "Sol0 = np.dot(np.random.rand(D1, r0), np.random.rand(r0, D1))\n",
    "Sol1 = np.dot(np.random.rand(D1, r1), np.random.rand(r1, D1))\n",
    "Sol2 = np.dot(np.random.rand(D1, r2), np.random.rand(r2, D1))\n",
    "Sol3 = np.dot(np.random.rand(D1, r3), np.random.rand(r3, D1))\n",
    "\n",
    "# Creating a list of solutions.\n",
    "matrices = [Sol0, Sol1, Sol2, Sol3]\n",
    "\n",
    "# Plot the solutions\n",
    "fig, (ax1, ax2, ax3, ax4) = plt.subplots(1, 4)\n",
    "ax1.title.set_text('Matrix 0')\n",
    "ax1.imshow(Sol0)\n",
    "ax2.title.set_text('Matrix 1')\n",
    "ax2.imshow(Sol1)\n",
    "ax3.title.set_text('Matrix 2')\n",
    "ax3.imshow(Sol2)\n",
    "ax4.title.set_text('Matrix 3')\n",
    "ax4.imshow(Sol3)\n",
    "plt.show()"
   ]
  },
  {
   "cell_type": "markdown",
   "metadata": {},
   "source": [
    "Instatiate the UQpy class Grassmann considering the `\"grassmann_distance\"` as the a definition of distance on the manifold."
   ]
  },
  {
   "cell_type": "code",
   "execution_count": null,
   "metadata": {},
   "outputs": [],
   "source": [
    "manifold_projection = SvdProjection(matrices, p_planes_dimensions=sys.maxsize)"
   ]
  },
  {
   "cell_type": "markdown",
   "metadata": {},
   "source": [
    "Compute the pairwise distances for $\\Psi$ and $\\Phi$, the left and right -singular eigenvectors, respectively, of singular value decomposition of each solution."
   ]
  },
  {
   "cell_type": "code",
   "execution_count": null,
   "metadata": {},
   "outputs": [],
   "source": [
    "pairwise_distance = Grassmann.calculate_pairwise_distances(distance_method=GrassmannDistance(),\n",
    "                                                           points_grassmann=manifold_projection.psi)\n",
    "print(pairwise_distance)"
   ]
  },
  {
   "cell_type": "markdown",
   "metadata": {},
   "source": [
    "Compute the distance between 2 points."
   ]
  },
  {
   "cell_type": "code",
   "execution_count": null,
   "metadata": {},
   "outputs": [],
   "source": [
    "distance_metric = GrassmannDistance()\n",
    "distance01 = distance_metric.compute_distance(manifold_projection.psi[0], manifold_projection.psi[1])\n",
    "print(distance01)"
   ]
  },
  {
   "cell_type": "markdown",
   "metadata": {},
   "source": [
    "Compute the pairwise distances for $\\Psi$ and $\\Phi$, the left and right -singular eigenvectors, respectively, of singular value decomposition of each solution. In this case, use an user defined function `my_distance`."
   ]
  },
  {
   "cell_type": "code",
   "execution_count": null,
   "metadata": {},
   "outputs": [],
   "source": [
    "class UserDistance(RiemannianDistance):\n",
    "\n",
    "    def compute_distance(self, x0, x1):\n",
    "        \"\"\"\n",
    "            Estimate the user distance.\n",
    "\n",
    "            **Input:**\n",
    "\n",
    "            * **x0** (`list` or `ndarray`)\n",
    "                Point on the grassman manifold.\n",
    "\n",
    "            * **x1** (`list` or `ndarray`)\n",
    "                Point on the grassman manifold.\n",
    "\n",
    "            **Output/Returns:**\n",
    "\n",
    "            * **distance** (`float`)\n",
    "                Procrustes distance between x0 and x1.\n",
    "            \"\"\"\n",
    "\n",
    "        if not isinstance(x0, list) and not isinstance(x0, np.ndarray):\n",
    "            raise TypeError('UQpy: x0 must be either list or numpy.ndarray.')\n",
    "        else:\n",
    "            x0 = np.array(x0)\n",
    "\n",
    "        if not isinstance(x1, list) and not isinstance(x1, np.ndarray):\n",
    "            raise TypeError('UQpy: x1 must be either list or numpy.ndarray.')\n",
    "        else:\n",
    "            x1 = np.array(x1)\n",
    "\n",
    "        l = min(np.shape(x0))\n",
    "        k = min(np.shape(x1))\n",
    "        rank = min(l, k)\n",
    "\n",
    "        r = np.dot(x0.T, x1)\n",
    "        # (ui, si, vi) = svd(r, rank)\n",
    "\n",
    "        ui, si, vi = np.linalg.svd(r, full_matrices=True, hermitian=False)  # Compute the SVD of matrix\n",
    "        si = np.diag(si)  # Transform the array si into a diagonal matrix containing the singular values\n",
    "        vi = vi.T  # Transpose of vi\n",
    "\n",
    "        u = ui[:, :rank]\n",
    "        s = si[:rank, :rank]\n",
    "        v = vi[:, :rank]\n",
    "\n",
    "        index = np.where(si > 1)\n",
    "        si[index] = 1.0\n",
    "        theta = np.arccos(si)\n",
    "        theta = np.sin(theta / 2) ** 2\n",
    "        distance = np.sqrt(abs(k - l) + 2 * np.sum(theta))\n",
    "\n",
    "        return distance\n",
    "\n",
    "pairwise_distance_psi = \\\n",
    "    Grassmann.calculate_pairwise_distances(distance_method=UserDistance(),\n",
    "                                           points_grassmann=manifold_projection.psi)\n",
    "pairwise_distance_phi = \\\n",
    "    Grassmann.calculate_pairwise_distances(distance_method=UserDistance(),\n",
    "                                           points_grassmann=manifold_projection.phi)\n",
    "print(pairwise_distance_psi)\n",
    "print(pairwise_distance_phi)"
   ]
  },
  {
   "cell_type": "code",
   "execution_count": null,
   "metadata": {},
   "outputs": [],
   "source": []
  }
 ],
 "metadata": {
  "kernelspec": {
   "display_name": "Python 3 (ipykernel)",
   "language": "python",
   "name": "python3"
  },
  "language_info": {
   "codemirror_mode": {
    "name": "ipython",
    "version": 3
   },
   "file_extension": ".py",
   "mimetype": "text/x-python",
   "name": "python",
   "nbconvert_exporter": "python",
   "pygments_lexer": "ipython3",
   "version": "3.9.6"
  }
 },
 "nbformat": 4,
 "nbformat_minor": 2
}
