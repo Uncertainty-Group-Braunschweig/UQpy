{
 "cells": [
  {
   "cell_type": "markdown",
   "metadata": {},
   "source": [
    "# Diffusion Maps\n",
    "\n",
    "Author: Ketson R. M. dos Santos,  \n",
    "Date: June 3rd, 2020   \n",
    "\n",
    "This example shows how to use the UQpy DiffusionMaps class to\n",
    "* reveal the embedded structure of data;"
   ]
  },
  {
   "cell_type": "markdown",
   "metadata": {},
   "source": [
    "Import the necessary libraries. Here we import standard libraries such as numpy and matplotlib, but also need to import the DiffusionMaps class from UQpy implemented in the DimensionReduction module."
   ]
  },
  {
   "cell_type": "code",
   "execution_count": null,
   "metadata": {},
   "outputs": [],
   "source": [
    "import numpy as np\n",
    "from mpl_toolkits.mplot3d import Axes3D\n",
    "import matplotlib.pyplot as plt\n",
    "from UQpy.dimension_reduction import DiffusionMaps"
   ]
  },
  {
   "cell_type": "markdown",
   "metadata": {},
   "source": [
    "Sample points randomly following the swiss roll function and plot the 3D graphic and the 2D graphic containing the first two coordinates."
   ]
  },
  {
   "cell_type": "code",
   "execution_count": null,
   "metadata": {},
   "outputs": [],
   "source": [
    "# set parameters\n",
    "length_phi = 15  # length of swiss roll in angular direction\n",
    "length_Z = 15  # length of swiss roll in z direction\n",
    "sigma = 0.1  # noise strength\n",
    "m = 4000  # number of samples\n",
    "\n",
    "np.random.seed(1111)\n",
    "# create dataset\n",
    "phi = length_phi * np.random.rand(m)\n",
    "xi = np.random.rand(m)\n",
    "Z0 = length_Z * np.random.rand(m)\n",
    "X0 = 1. / 6 * (phi + sigma * xi) * np.sin(phi)\n",
    "Y0 = 1. / 6 * (phi + sigma * xi) * np.cos(phi)\n",
    "\n",
    "swiss_roll = np.array([X0, Y0, Z0]).transpose()\n",
    "\n",
    "fig = plt.figure(num=None, figsize=(7, 7))\n",
    "ax = fig.gca(projection='3d')\n",
    "ax.scatter(X0, Y0, Z0, c='r', cmap=plt.cm.Spectral, s=8)\n",
    "ax.set_xlabel('X')\n",
    "ax.set_ylabel('Y')\n",
    "ax.set_zlabel('Z')\n",
    "plt.show()\n",
    "\n",
    "fig = plt.figure()\n",
    "plt.axes().set_aspect('equal')\n",
    "plt.scatter(X0, Y0, c='r', cmap=plt.cm.Spectral, s=8)\n",
    "plt.xlabel('X')\n",
    "plt.ylabel('Y')\n",
    "plt.show()"
   ]
  },
  {
   "cell_type": "markdown",
   "metadata": {},
   "source": [
    "Instantiate the class `DiffusionMaps` using `alpha=0.5` for the Fokker-Plank diffusion operator; `n_evecs=3`, because the first eigenvector is non-informative; `sparse=True` with `k_neighbors=100`, for improved computational performance."
   ]
  },
  {
   "cell_type": "code",
   "execution_count": null,
   "metadata": {},
   "outputs": [],
   "source": [
    "from UQpy.dimension_reduction.kernels import Gaussian\n",
    "dfm = DiffusionMaps.create_from_data(data=swiss_roll,\n",
    "                                     alpha=0.5, eigenvectors_number=3,\n",
    "                                     is_sparse=True, neighbors_number=100,\n",
    "                                     kernel=Gaussian(epsilon=0.03))"
   ]
  },
  {
   "cell_type": "markdown",
   "metadata": {},
   "source": [
    "Use the method `mapping` to compute the `n_evecs` diffusion coordinates."
   ]
  },
  {
   "cell_type": "code",
   "execution_count": null,
   "metadata": {},
   "outputs": [],
   "source": [
    "diff_coords, evals, evecs = dfm.mapping()"
   ]
  },
  {
   "cell_type": "markdown",
   "metadata": {},
   "source": [
    "Plot the second and third diffusion coordinates to reveal the embedded structure of the data."
   ]
  },
  {
   "cell_type": "code",
   "execution_count": null,
   "metadata": {},
   "outputs": [],
   "source": [
    "color = evecs[:, 1]\n",
    "\n",
    "fig = plt.figure(num=None, figsize=(7, 7))\n",
    "plt.scatter(diff_coords[:, 1], diff_coords[:, 2], c=color, cmap=plt.cm.Spectral, s=8)\n",
    "plt.xlabel('diff_coords(1)')\n",
    "plt.ylabel('diff_coords(2)')\n",
    "plt.show()"
   ]
  },
  {
   "cell_type": "markdown",
   "metadata": {},
   "source": [
    "Use the colormap to observe how the embedded structure is distributed in the original set."
   ]
  },
  {
   "cell_type": "code",
   "execution_count": null,
   "metadata": {},
   "outputs": [],
   "source": [
    "fig = plt.figure(num=None, figsize=(7, 7))\n",
    "ax = fig.gca(projection='3d')\n",
    "ax.scatter(X0, Y0, Z0, c=color, cmap=plt.cm.Spectral, s=8)\n",
    "ax.set_xlabel('X')\n",
    "ax.set_ylabel('Y')\n",
    "ax.set_zlabel('Z')\n",
    "plt.show()"
   ]
  }
 ],
 "metadata": {
  "kernelspec": {
   "display_name": "Python 3 (ipykernel)",
   "language": "python",
   "name": "python3"
  },
  "language_info": {
   "codemirror_mode": {
    "name": "ipython",
    "version": 3
   },
   "file_extension": ".py",
   "mimetype": "text/x-python",
   "name": "python",
   "nbconvert_exporter": "python",
   "pygments_lexer": "ipython3",
   "version": "3.9.6"
  }
 },
 "nbformat": 4,
 "nbformat_minor": 2
}
