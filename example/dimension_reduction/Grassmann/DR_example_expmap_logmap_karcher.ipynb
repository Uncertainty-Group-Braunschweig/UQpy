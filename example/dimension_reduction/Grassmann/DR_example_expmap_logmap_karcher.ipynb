{
 "cells": [
  {
   "cell_type": "markdown",
   "metadata": {},
   "source": [
    "# Grassmann Manifold\n",
    "\n",
    "Author: Ketson R. M. dos Santos,  \n",
    "Date: June 3rd, 2020   \n",
    "\n",
    "This example shows how to use the UQpy Grassmann class to\n",
    "* use the logarithimic map;\n",
    "* use the exponential map;\n",
    "* compute the Karcher mean."
   ]
  },
  {
   "cell_type": "markdown",
   "metadata": {},
   "source": [
    "Import the necessary libraries. Here we import standard libraries such as numpy and matplotlib, but also need to import the Grassmann class from UQpy implemented in the DimensionReduction module."
   ]
  },
  {
   "cell_type": "code",
   "execution_count": null,
   "metadata": {},
   "outputs": [],
   "source": [
    "import numpy as np\n",
    "import matplotlib\n",
    "import matplotlib.pyplot as plt\n",
    "from mpl_toolkits.axes_grid1 import make_axes_locatable\n",
    "import sys\n",
    "from UQpy.dimension_reduction.grassman.manifold_projections.SvdProjection import SvdProjection\n",
    "from UQpy.dimension_reduction import Grassmann"
   ]
  },
  {
   "cell_type": "markdown",
   "metadata": {},
   "source": [
    "Generate four random matrices with reduced rank corresponding to the different samples. The samples are stored in `matrices`."
   ]
  },
  {
   "cell_type": "code",
   "execution_count": null,
   "metadata": {},
   "outputs": [],
   "source": [
    "D1 = 6\n",
    "r0 = 2  # rank sample 0\n",
    "r1 = 3  # rank sample 1\n",
    "r2 = 4  # rank sample 2\n",
    "r3 = 3  # rank sample 2\n",
    "\n",
    "np.random.seed(1111)  # For reproducibility.\n",
    "# Solutions: original space.\n",
    "Sol0 = np.dot(np.random.rand(D1, r0), np.random.rand(r0, D1))\n",
    "Sol1 = np.dot(np.random.rand(D1, r1), np.random.rand(r1, D1))\n",
    "Sol2 = np.dot(np.random.rand(D1, r2), np.random.rand(r2, D1))\n",
    "Sol3 = np.dot(np.random.rand(D1, r3), np.random.rand(r3, D1))\n",
    "\n",
    "# Creating a list of matrices.\n",
    "matrices = [Sol0, Sol1, Sol2, Sol3]\n",
    "\n",
    "# Plot the matrices\n",
    "fig, (ax1, ax2, ax3, ax4) = plt.subplots(1, 4)\n",
    "ax1.title.set_text('Matrix 0')\n",
    "ax1.imshow(Sol0)\n",
    "ax2.title.set_text('Matrix 1')\n",
    "ax2.imshow(Sol1)\n",
    "ax3.title.set_text('Matrix 2')\n",
    "ax3.imshow(Sol2)\n",
    "ax4.title.set_text('Matrix 3')\n",
    "ax4.imshow(Sol3)\n",
    "plt.show()"
   ]
  },
  {
   "cell_type": "markdown",
   "metadata": {},
   "source": [
    "Instatiate the UQpy class Grassmann."
   ]
  },
  {
   "cell_type": "code",
   "execution_count": null,
   "metadata": {},
   "outputs": [],
   "source": [
    "manifold_projection = SvdProjection(matrices, p_planes_dimensions=sys.maxsize)\n",
    "\n",
    "# Plot the points on the Grassmann manifold defined by the left singular eigenvectors.\n",
    "fig, (ax1, ax2, ax3, ax4) = plt.subplots(1, 4)\n",
    "ax1.title.set_text('Matrix 0')\n",
    "ax1.imshow(manifold_projection.psi[0])\n",
    "ax2.title.set_text('Matrix 1')\n",
    "ax2.imshow(manifold_projection.psi[0])\n",
    "ax3.title.set_text('Matrix 2')\n",
    "ax3.imshow(manifold_projection.psi[0])\n",
    "ax4.title.set_text('Matrix 3')\n",
    "ax4.imshow(manifold_projection.psi[0])\n",
    "plt.show()"
   ]
  },
  {
   "cell_type": "markdown",
   "metadata": {},
   "source": [
    "Compute the Karcher mean."
   ]
  },
  {
   "cell_type": "code",
   "execution_count": null,
   "metadata": {},
   "outputs": [],
   "source": [
    "from UQpy.dimension_reduction.grassman.optimization_methods.GradientDescent import GradientDescent\n",
    "from UQpy.dimension_reduction.distances.grassmanian.GrassmanDistance import GrassmannDistance\n",
    "\n",
    "optimization_method = GradientDescent(acceleration=True, error_tolerance=1e-4, max_iterations=1000)\n",
    "distance_method = GrassmannDistance()\n",
    "karcher_psi = Grassmann.karcher_mean(points_grassmann=manifold_projection.psi,\n",
    "                                     p_planes_dimensions=manifold_projection.p_planes_dimensions,\n",
    "                                     distance=distance_method,\n",
    "                                     optimization_method=optimization_method)\n",
    "karcher_phi = Grassmann.karcher_mean(points_grassmann=manifold_projection.phi,\n",
    "                                     p_planes_dimensions=manifold_projection.p_planes_dimensions,\n",
    "                                     distance=distance_method,\n",
    "                                     optimization_method=optimization_method)"
   ]
  },
  {
   "cell_type": "markdown",
   "metadata": {},
   "source": [
    "Project $\\Psi$, the left singular eigenvectors, on the tangent space centered at the Karcher mean."
   ]
  },
  {
   "cell_type": "code",
   "execution_count": null,
   "metadata": {},
   "outputs": [],
   "source": [
    "points_tangent = Grassmann.log_map(points_grassmann=manifold_projection.psi,\n",
    "                                   reference_point=karcher_psi)\n",
    "\n",
    "print(points_tangent[0])\n",
    "print(points_tangent[1])\n",
    "print(points_tangent[2])\n",
    "print(points_tangent[3])\n",
    "\n",
    "# Plot the matrices\n",
    "fig, (ax1, ax2, ax3, ax4) = plt.subplots(1, 4)\n",
    "ax1.title.set_text('Matrix 0')\n",
    "ax1.imshow(points_tangent[0])\n",
    "ax2.title.set_text('Matrix 1')\n",
    "ax2.imshow(points_tangent[1])\n",
    "ax3.title.set_text('Matrix 2')\n",
    "ax3.imshow(points_tangent[2])\n",
    "ax4.title.set_text('Matrix 3')\n",
    "ax4.imshow(points_tangent[3])\n",
    "plt.show()"
   ]
  },
  {
   "cell_type": "markdown",
   "metadata": {},
   "source": [
    "Map the points back to the Grassmann manifold."
   ]
  },
  {
   "cell_type": "code",
   "execution_count": null,
   "metadata": {},
   "outputs": [],
   "source": [
    "points_grassmann = Grassmann.exp_map(points_tangent=points_tangent,\n",
    "                                     reference_point=manifold_projection.psi[0])\n",
    "\n",
    "print(points_grassmann[0])\n",
    "print(points_grassmann[1])\n",
    "print(points_grassmann[2])\n",
    "print(points_grassmann[3])\n",
    "\n",
    "# Plot the matrices\n",
    "fig, (ax1, ax2, ax3, ax4) = plt.subplots(1, 4)\n",
    "ax1.title.set_text('Matrix 0')\n",
    "ax1.imshow(points_grassmann[0])\n",
    "ax2.title.set_text('Matrix 1')\n",
    "ax2.imshow(points_grassmann[1])\n",
    "ax3.title.set_text('Matrix 2')\n",
    "ax3.imshow(points_grassmann[2])\n",
    "ax4.title.set_text('Matrix 3')\n",
    "ax4.imshow(points_grassmann[3])\n",
    "plt.show()"
   ]
  }
 ],
 "metadata": {
  "kernelspec": {
   "display_name": "Python 3 (ipykernel)",
   "language": "python",
   "name": "python3"
  },
  "language_info": {
   "codemirror_mode": {
    "name": "ipython",
    "version": 3
   },
   "file_extension": ".py",
   "mimetype": "text/x-python",
   "name": "python",
   "nbconvert_exporter": "python",
   "pygments_lexer": "ipython3",
   "version": "3.9.6"
  }
 },
 "nbformat": 4,
 "nbformat_minor": 2
}
