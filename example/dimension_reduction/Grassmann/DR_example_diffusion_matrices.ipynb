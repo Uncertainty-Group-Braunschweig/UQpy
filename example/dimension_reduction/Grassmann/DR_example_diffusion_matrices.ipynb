{
 "cells": [
  {
   "cell_type": "markdown",
   "metadata": {},
   "source": [
    "# Grassmann Manifold\n",
    "\n",
    "Author: Ketson R. M. dos Santos,  \n",
    "Date: June 3rd, 2020   \n",
    "\n",
    "This example shows how to use the UQpy Grassmann class to\n",
    "* project points onto the Grassmann manifold;\n",
    "* calculate the pairwise distances;\n",
    "* compute the affinity matrix."
   ]
  },
  {
   "cell_type": "markdown",
   "metadata": {},
   "source": [
    "Import the necessary libraries. Here we import standard libraries such as numpy and matplotlib, but also need to import the Grassmann class from UQpy implemented in the DimensionReduction module."
   ]
  },
  {
   "cell_type": "code",
   "execution_count": null,
   "metadata": {},
   "outputs": [],
   "source": [
    "import numpy as np\n",
    "import matplotlib\n",
    "import matplotlib.pyplot as plt\n",
    "from mpl_toolkits.axes_grid1 import make_axes_locatable\n",
    "from mpl_toolkits.mplot3d import Axes3D\n",
    "from UQpy.dimension_reduction import DiffusionMaps"
   ]
  },
  {
   "cell_type": "markdown",
   "metadata": {},
   "source": [
    "Generate `npts` matrices to serve as input points."
   ]
  },
  {
   "cell_type": "code",
   "execution_count": null,
   "metadata": {},
   "outputs": [],
   "source": [
    "np.random.seed(111)\n",
    "npts = 1000\n",
    "pts = np.random.rand(npts, 2)\n",
    "\n",
    "a0 = 0\n",
    "a1 = 1\n",
    "b0 = 0\n",
    "b1 = 1\n",
    "\n",
    "nodes = np.zeros(np.shape(pts))\n",
    "\n",
    "nodes[:, 0] = pts[:, 0] * (a1 - a0) + a0\n",
    "nodes[:, 1] = pts[:, 1] * (b1 - b0) + b0\n",
    "\n",
    "ns = 40\n",
    "\n",
    "x = np.linspace(0, 1, ns)\n",
    "samples = []\n",
    "for i in range(npts):\n",
    "\n",
    "    M = np.zeros((ns, ns))\n",
    "    for k in range(ns):\n",
    "        f = np.sin(0.1 * k * np.pi * nodes[i, 0] * x + 2 * np.pi * nodes[i, 1])\n",
    "        M[:, k] = f\n",
    "\n",
    "    samples.append(M)"
   ]
  },
  {
   "cell_type": "markdown",
   "metadata": {},
   "source": [
    "Plot the coordinates of each point in the Euclidean space and plot two distinct points."
   ]
  },
  {
   "cell_type": "code",
   "execution_count": null,
   "metadata": {},
   "outputs": [],
   "source": [
    "plt.plot(nodes[:, 0], nodes[:, 1], 'ko')\n",
    "plt.plot(nodes[0, 0], nodes[0, 1], 'ro')\n",
    "plt.plot(nodes[1, 0], nodes[1, 1], 'bo')\n",
    "plt.text(nodes[0, 0], nodes[0, 1], '0')\n",
    "plt.text(nodes[1, 0], nodes[1, 1], '1')\n",
    "plt.show()\n",
    "\n",
    "fig, (ax1, ax2) = plt.subplots(1, 2)\n",
    "ax1.imshow(samples[0])\n",
    "ax1.title.set_text('Element 0')\n",
    "ax2.imshow(samples[1])\n",
    "ax2.title.set_text('Element 1')"
   ]
  },
  {
   "cell_type": "markdown",
   "metadata": {},
   "source": [
    "Instantiate the ``UQpy`` class ``DiffusionMaps`` and compute the diffusion coordinates using the method ``mapping``."
   ]
  },
  {
   "cell_type": "code",
   "execution_count": null,
   "metadata": {},
   "outputs": [],
   "source": [
    "from UQpy.dimension_reduction.kernels import Gaussian\n",
    "dfm = DiffusionMaps.create_from_data(data=samples,\n",
    "                                     alpha=0.5, eigenvectors_number=10,\n",
    "                                     kernel=Gaussian(epsilon=0.3))\n",
    "diff_coords, evals, evecs = dfm.mapping()"
   ]
  },
  {
   "cell_type": "markdown",
   "metadata": {},
   "source": [
    "Plot the diffusion coordinates and the points presented above."
   ]
  },
  {
   "cell_type": "code",
   "execution_count": null,
   "metadata": {},
   "outputs": [],
   "source": [
    "p0 = 1\n",
    "p1 = 2\n",
    "p2 = 3\n",
    "\n",
    "fig = plt.figure(num=None, figsize=(10, 10))\n",
    "ax = fig.gca(projection='3d')\n",
    "ax.scatter(diff_coords[:, p0], diff_coords[:, p1], diff_coords[:, p2], c=[[0.3, 0.3, 0.3]], cmap=plt.cm.Spectral,\n",
    "           s=30, marker='.')\n",
    "ax.scatter(diff_coords[0, p0], diff_coords[0, p1], diff_coords[0, p2], c='r', cmap=plt.cm.Spectral, s=50)\n",
    "ax.scatter(diff_coords[1, p0], diff_coords[1, p1], diff_coords[1, p2], c='b', cmap=plt.cm.Spectral, s=50)\n",
    "ax.text(diff_coords[0, p0], diff_coords[0, p1], diff_coords[0, p2], '%s' % (str(0)), size=20, zorder=1, color='r')\n",
    "ax.text(diff_coords[1, p0], diff_coords[1, p1], diff_coords[1, p2], '%s' % (str(1)), size=20, zorder=1, color='b')\n",
    "ax.set_xlabel('diff_coords 1')\n",
    "ax.set_ylabel('diff_coords 2')\n",
    "ax.set_zlabel('diff_coords 3')\n",
    "plt.show()"
   ]
  }
 ],
 "metadata": {
  "kernelspec": {
   "display_name": "Python 3 (ipykernel)",
   "language": "python",
   "name": "python3"
  },
  "language_info": {
   "codemirror_mode": {
    "name": "ipython",
    "version": 3
   },
   "file_extension": ".py",
   "mimetype": "text/x-python",
   "name": "python",
   "nbconvert_exporter": "python",
   "pygments_lexer": "ipython3",
   "version": "3.9.6"
  }
 },
 "nbformat": 4,
 "nbformat_minor": 2
}
