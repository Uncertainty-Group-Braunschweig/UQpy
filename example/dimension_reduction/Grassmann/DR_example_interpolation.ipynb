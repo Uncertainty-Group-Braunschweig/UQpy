{
 "cells": [
  {
   "cell_type": "markdown",
   "metadata": {},
   "source": [
    "# Grassmann Manifold\n",
    "\n",
    "Author: Ketson R. M. dos Santos,  \n",
    "Date: June 3rd, 2020   \n",
    "\n",
    "This example shows how to use the UQpy Grassmann class to\n",
    "* perform interpolation on the Grassmann manifold;"
   ]
  },
  {
   "cell_type": "markdown",
   "metadata": {},
   "source": [
    "Import the necessary libraries. Here we import standard libraries such as numpy and matplotlib, but also need to import the Grassmann class from UQpy implemented in the DimensionReduction module."
   ]
  },
  {
   "cell_type": "code",
   "execution_count": null,
   "metadata": {},
   "outputs": [],
   "source": [
    "import numpy as np\n",
    "import matplotlib\n",
    "import matplotlib.pyplot as plt\n",
    "from mpl_toolkits.axes_grid1 import make_axes_locatable\n",
    "from UQpy.dimension_reduction.grassman.manifold_projections.SvdProjection import SvdProjection\n",
    "import sys\n",
    "from UQpy.dimension_reduction import Grassmann\n",
    "from UQpy.dimension_reduction.grassman.optimization_methods.GradientDescent import GradientDescent\n",
    "from UQpy.dimension_reduction.distances.grassmanian.GrassmanDistance import GrassmannDistance\n",
    "from UQpy import Interpolation\n",
    "from UQpy import LinearInterpolation\n",
    "from UQpy import InterpolationMethod"
   ]
  },
  {
   "cell_type": "markdown",
   "metadata": {},
   "source": [
    "Generate the initial samples located at the vertices of a triangle. The coordinates of each vertix are stored in `nodes` and `point` contain the point to be interpolated on the tangent space."
   ]
  },
  {
   "cell_type": "code",
   "execution_count": null,
   "metadata": {},
   "outputs": [],
   "source": [
    "nodes = np.array([[0, 0], [1, 0], [1, 1], [0, 1]])  # node_0, node_1, node_2.\n",
    "point = np.array([0.1, 0.1])  # Point to interpolate.\n",
    "\n",
    "plot_ = nodes[0:]\n",
    "Xplot = plot_.T[0].tolist()\n",
    "Xplot.append(plot_[0][0])\n",
    "Yplot = plot_.T[1].tolist()\n",
    "Yplot.append(plot_[0][1])\n",
    "plt.plot(Xplot, Yplot)\n",
    "plt.plot(nodes[0][0], nodes[0][1], 'ro')\n",
    "plt.plot(nodes[1][0], nodes[1][1], 'ro')\n",
    "plt.plot(nodes[2][0], nodes[2][1], 'ro')\n",
    "plt.plot(nodes[3][0], nodes[3][1], 'ro')\n",
    "plt.plot(point[0], point[1], 'bo')\n",
    "\n",
    "dt = 0.015\n",
    "plt.text(nodes[0][0] + dt, nodes[0][1] + dt, '0')\n",
    "plt.text(nodes[1][0] + dt, nodes[1][1] + dt, '1')\n",
    "plt.text(nodes[2][0] + dt, nodes[2][1] + dt, '2')\n",
    "plt.text(nodes[3][0] + dt, nodes[3][1] + dt, '2')\n",
    "plt.text(point[0] + dt, point[1] + dt, 'point')\n",
    "plt.show()\n",
    "plt.close()"
   ]
  },
  {
   "cell_type": "markdown",
   "metadata": {},
   "source": [
    "Generate three random matrices with reduced rank corresponding to the different samples. The samples are stored in `Solutions`."
   ]
  },
  {
   "cell_type": "code",
   "execution_count": null,
   "metadata": {},
   "outputs": [],
   "source": [
    "D1 = 6\n",
    "r0 = 2  # rank sample 0\n",
    "r1 = 3  # rank sample 1\n",
    "r2 = 4  # rank sample 2\n",
    "r3 = 3  # rank sample 2\n",
    "\n",
    "np.random.seed(1111)  # For reproducibility.\n",
    "# Solutions: original space.\n",
    "Sol0 = np.dot(np.random.rand(D1, r0), np.random.rand(r0, D1))\n",
    "Sol1 = np.dot(np.random.rand(D1, r1), np.random.rand(r1, D1))\n",
    "Sol2 = np.dot(np.random.rand(D1, r2), np.random.rand(r2, D1))\n",
    "Sol3 = np.dot(np.random.rand(D1, r3), np.random.rand(r3, D1))\n",
    "\n",
    "# Creating a list of solutions.\n",
    "Solutions = [Sol0, Sol1, Sol2, Sol3]\n",
    "\n",
    "# Plot the solutions\n",
    "fig, (ax1, ax2, ax3, ax4) = plt.subplots(1, 4)\n",
    "ax1.title.set_text('Solution 0')\n",
    "ax1.imshow(Sol0)\n",
    "ax2.title.set_text('Solution 1')\n",
    "ax2.imshow(Sol1)\n",
    "ax3.title.set_text('Solution 2')\n",
    "ax3.imshow(Sol2)\n",
    "ax4.title.set_text('Solution 3')\n",
    "ax4.imshow(Sol3)\n",
    "plt.show()"
   ]
  },
  {
   "cell_type": "markdown",
   "metadata": {},
   "source": [
    "Firs, let's perform the interpolation step-by-step using an object of the ``UQpy.Kriging`` class to interpolate. Further, instatiate the ``UQpy`` class ``Grassmann`` considering the `grassmann_distance` for the distance, `gradient_descent` to estimate the Karcher mean."
   ]
  },
  {
   "cell_type": "code",
   "execution_count": null,
   "metadata": {},
   "outputs": [],
   "source": [
    "from UQpy.surrogates import Kriging\n",
    "from UQpy.surrogates.kriging.regression_models.Linear import Linear\n",
    "from UQpy.surrogates.kriging.correlation_models.Exponential import Exponential\n",
    "\n",
    "Krig = Kriging(regression_model=Linear(),\n",
    "               correlation_model=Exponential(),\n",
    "               correlation_model_parameters=[1.0, 1.0],\n",
    "               optimizations_number=1)\n",
    "\n",
    "manifold_projection = SvdProjection(Solutions, p_planes_dimensions=sys.maxsize)"
   ]
  },
  {
   "cell_type": "markdown",
   "metadata": {},
   "source": [
    "Compute the Karcher mean for $\\Psi$ and $\\Phi$, the left and right -singular eigenvectors, respectively, of singular value decomposition of each solution."
   ]
  },
  {
   "cell_type": "code",
   "execution_count": null,
   "metadata": {},
   "outputs": [],
   "source": [
    "optimization_method = GradientDescent(acceleration=True, error_tolerance=1e-4, max_iterations=1000)\n",
    "karcher_psi = Grassmann.karcher_mean(points_grassmann=manifold_projection.psi,\n",
    "                                  p_planes_dimensions=manifold_projection.p_planes_dimensions,\n",
    "                                  optimization_method=optimization_method,\n",
    "                                  distance=GrassmannDistance())\n",
    "karcher_phi = Grassmann.karcher_mean(points_grassmann=manifold_projection.phi,\n",
    "                                     p_planes_dimensions=manifold_projection.p_planes_dimensions,\n",
    "                                     optimization_method=optimization_method,\n",
    "                                     distance=GrassmannDistance())"
   ]
  },
  {
   "cell_type": "markdown",
   "metadata": {},
   "source": [
    "Rearrange the singular values $\\Sigma$ of each solution as a diagonal matrix."
   ]
  },
  {
   "cell_type": "code",
   "execution_count": null,
   "metadata": {},
   "outputs": [],
   "source": [
    "sigma_m = []\n",
    "for i in range(len(manifold_projection.sigma)):\n",
    "    sigma_m.append(np.diag(manifold_projection.sigma[i]))"
   ]
  },
  {
   "cell_type": "markdown",
   "metadata": {},
   "source": [
    "Select the Karcher mean as a reference point for $\\Psi$ and $\\Phi$ and map those points on the manifold to the tangent space generated at the reference point."
   ]
  },
  {
   "cell_type": "code",
   "execution_count": null,
   "metadata": {},
   "outputs": [],
   "source": [
    "gammaPsi = Grassmann.log_map(manifold_projection.psi, reference_point=karcher_psi)\n",
    "gammaPhi = Grassmann.log_map(manifold_projection.phi, reference_point=karcher_phi)"
   ]
  },
  {
   "cell_type": "markdown",
   "metadata": {},
   "source": [
    "Perform the standard linear interpolation of `point` on the tangent space for $\\Psi$, $\\Phi$, and $\\Sigma$. The interpolated points are given by $\\tilde{\\Psi}$, $\\tilde{\\Phi}$, and $\\tilde{\\Sigma}$. Thus, the interpolated solution is given by $\\tilde{\\mathrm{X}}=\\tilde{\\Psi}\\tilde{\\Phi}\\tilde{\\Sigma}$."
   ]
  },
  {
   "cell_type": "code",
   "execution_count": null,
   "metadata": {},
   "outputs": [],
   "source": [
    "interpolation = Interpolation(interpolation_method=Krig)\n",
    "\n",
    "interpPsi = interpolation.interpolate_sample(coordinates=nodes, samples=gammaPsi, point=point)\n",
    "interpPhi = interpolation.interpolate_sample(coordinates=nodes, samples=gammaPhi, point=point)\n",
    "interpS = interpolation.interpolate_sample(coordinates=nodes, samples=sigma_m, point=point)"
   ]
  },
  {
   "cell_type": "code",
   "execution_count": null,
   "metadata": {},
   "outputs": [],
   "source": [
    "PsiTilde = Grassmann.exp_map([interpPsi], reference_point=karcher_psi)\n",
    "PhiTilde = Grassmann.exp_map([interpPhi], reference_point=karcher_phi)\n",
    "\n",
    "PsiTilde = np.array(PsiTilde[0])\n",
    "PhiTilde = np.array(PhiTilde[0])\n",
    "SolTilde = np.dot(np.dot(PsiTilde, interpS), PhiTilde.T)"
   ]
  },
  {
   "cell_type": "markdown",
   "metadata": {},
   "source": [
    "Print the interpolated solution and compare to the given solutions associated to the different vertices of the triangle."
   ]
  },
  {
   "cell_type": "code",
   "execution_count": null,
   "metadata": {},
   "outputs": [],
   "source": [
    "print(Sol0)\n",
    "print(\" \")\n",
    "print(Sol1)\n",
    "print(\" \")\n",
    "print(Sol2)\n",
    "print(\"-------------------------\")\n",
    "print(SolTilde)\n",
    "\n",
    "plot_ = nodes[0:]\n",
    "Xplot = plot_.T[0].tolist()\n",
    "Xplot.append(plot_[0][0])\n",
    "Yplot = plot_.T[1].tolist()\n",
    "Yplot.append(plot_[0][1])\n",
    "plt.plot(Xplot, Yplot)\n",
    "plt.plot(nodes[0][0], nodes[0][1], 'ro')\n",
    "plt.plot(nodes[1][0], nodes[1][1], 'ro')\n",
    "plt.plot(nodes[2][0], nodes[2][1], 'ro')\n",
    "plt.plot(nodes[3][0], nodes[3][1], 'ro')\n",
    "plt.plot(point[0], point[1], 'bo')\n",
    "\n",
    "dt = 0.015\n",
    "plt.text(nodes[0][0] + dt, nodes[0][1] + dt, '0')\n",
    "plt.text(nodes[1][0] + dt, nodes[1][1] + dt, '1')\n",
    "plt.text(nodes[2][0] + dt, nodes[2][1] + dt, '2')\n",
    "plt.text(nodes[3][0] + dt, nodes[3][1] + dt, '3')\n",
    "plt.text(point[0] + dt, point[1] + dt, 'p')\n",
    "plt.show()\n",
    "plt.close()\n",
    "\n",
    "# Plot the solutions\n",
    "fig, (ax1, ax2, ax3, ax4, ax5) = plt.subplots(1, 5)\n",
    "ax1.title.set_text('Solution 0')\n",
    "ax1.imshow(Sol0)\n",
    "ax2.title.set_text('Solution 1')\n",
    "ax2.imshow(Sol1)\n",
    "ax3.title.set_text('Solution 2')\n",
    "ax3.imshow(Sol2)\n",
    "ax4.title.set_text('Solution 3')\n",
    "ax4.imshow(Sol3)\n",
    "ax5.title.set_text('Interpolated')\n",
    "ax5.imshow(SolTilde)\n",
    "plt.show()"
   ]
  },
  {
   "cell_type": "markdown",
   "metadata": {},
   "source": [
    "All the operations above are implemented in the method `interpolate`, which is used below. in this case, the interpolation is performed on the entries of the input matrices."
   ]
  },
  {
   "cell_type": "code",
   "execution_count": null,
   "metadata": {},
   "outputs": [],
   "source": [
    "X = manifold_projection.reconstruct_solution(interpolation=interpolation,\n",
    "                                             coordinates=nodes,\n",
    "                                             point=point,\n",
    "                                             p_planes_dimensions=manifold_projection.p_planes_dimensions,\n",
    "                                             distance=GrassmannDistance(),\n",
    "                                             element_wise=True,\n",
    "                                             optimization_method=GradientDescent())\n",
    "\n",
    "# Plot the solutions\n",
    "fig, (ax1, ax2, ax3, ax4, ax5) = plt.subplots(1, 5)\n",
    "ax1.title.set_text('Solution 0')\n",
    "ax1.imshow(Sol0)\n",
    "ax2.title.set_text('Solution 1')\n",
    "ax2.imshow(Sol1)\n",
    "ax3.title.set_text('Solution 2')\n",
    "ax3.imshow(Sol2)\n",
    "ax4.title.set_text('Solution 3')\n",
    "ax4.imshow(Sol3)\n",
    "ax5.title.set_text('Interpolated')\n",
    "ax5.imshow(X)\n",
    "plt.show()"
   ]
  },
  {
   "cell_type": "markdown",
   "metadata": {},
   "source": [
    "Now, let's use an object of sklearn.gaussiann_process. (To run this example, you have to install the scikit learn toolbox in advance.)"
   ]
  },
  {
   "cell_type": "code",
   "execution_count": null,
   "metadata": {},
   "outputs": [],
   "source": [
    "from sklearn.gaussian_process import GaussianProcessRegressor\n",
    "gp = GaussianProcessRegressor()\n",
    "\n",
    "# Instantiate the method again with: interp_object=gp.\n",
    "interpolation = Interpolation(interpolation_method=gp)\n",
    "\n",
    "X = manifold_projection.reconstruct_solution(coordinates=nodes, point=[point], element_wise=True,\n",
    "                                             interpolation=interpolation,\n",
    "                                             optimization_method=GradientDescent(),\n",
    "                                             distance=GrassmannDistance(),\n",
    "                                             p_planes_dimensions=manifold_projection.p_planes_dimensions)"
   ]
  },
  {
   "cell_type": "markdown",
   "metadata": {},
   "source": [
    "Plot the solution."
   ]
  },
  {
   "cell_type": "code",
   "execution_count": null,
   "metadata": {},
   "outputs": [],
   "source": [
    "# Plot the solutions\n",
    "fig, (ax1, ax2, ax3, ax4, ax5) = plt.subplots(1, 5)\n",
    "ax1.title.set_text('Solution 0')\n",
    "ax1.imshow(Sol0)\n",
    "ax2.title.set_text('Solution 1')\n",
    "ax2.imshow(Sol1)\n",
    "ax3.title.set_text('Solution 2')\n",
    "ax3.imshow(Sol2)\n",
    "ax4.title.set_text('Solution 3')\n",
    "ax4.imshow(Sol3)\n",
    "ax5.title.set_text('Interpolated')\n",
    "ax5.imshow(X)\n",
    "plt.show()"
   ]
  }
 ],
 "metadata": {
  "kernelspec": {
   "display_name": "Python 3 (ipykernel)",
   "language": "python",
   "name": "python3"
  },
  "language_info": {
   "codemirror_mode": {
    "name": "ipython",
    "version": 3
   },
   "file_extension": ".py",
   "mimetype": "text/x-python",
   "name": "python",
   "nbconvert_exporter": "python",
   "pygments_lexer": "ipython3",
   "version": "3.9.6"
  }
 },
 "nbformat": 4,
 "nbformat_minor": 2
}
