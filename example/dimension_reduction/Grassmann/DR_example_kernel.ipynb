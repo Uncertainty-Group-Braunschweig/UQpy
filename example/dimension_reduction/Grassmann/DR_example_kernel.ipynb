{
 "cells": [
  {
   "cell_type": "markdown",
   "metadata": {},
   "source": [
    "# Grassmann Manifold\n",
    "\n",
    "Author: Ketson R. M. dos Santos,  \n",
    "Date: June 3rd, 2020   \n",
    "\n",
    "This example shows how to use the UQpy Grassmann class to\n",
    "* compute kernels;"
   ]
  },
  {
   "cell_type": "markdown",
   "metadata": {},
   "source": [
    "Import the necessary libraries. Here we import standard libraries such as numpy and matplotlib, but also need to import the Grassmann class from UQpy implemented in the DimensionReduction module."
   ]
  },
  {
   "cell_type": "code",
   "execution_count": null,
   "metadata": {},
   "outputs": [],
   "source": [
    "import numpy as np\n",
    "import matplotlib\n",
    "import matplotlib.pyplot as plt\n",
    "from mpl_toolkits.axes_grid1 import make_axes_locatable\n",
    "from UQpy.dimension_reduction.grassman.manifold_projections.SvdProjection import SvdProjection\n",
    "from UQpy.dimension_reduction import Grassmann\n",
    "import sys\n",
    "from UQpy import ProjectionKernel\n",
    "from UQpy import KernelComposition\n",
    "from UQpy import OrthoMatrixPoints\n",
    "from UQpy import Kernel"
   ]
  },
  {
   "cell_type": "markdown",
   "metadata": {},
   "source": [
    "Generate four random matrices with reduced rank corresponding to the different samples. The samples are stored in `matrices`."
   ]
  },
  {
   "cell_type": "code",
   "execution_count": null,
   "metadata": {},
   "outputs": [],
   "source": [
    "D1 = 6\n",
    "r0 = 2  # rank sample 0\n",
    "r1 = 3  # rank sample 1\n",
    "r2 = 4  # rank sample 2\n",
    "r3 = 3  # rank sample 2\n",
    "\n",
    "np.random.seed(1111)  # For reproducibility.\n",
    "# Solutions: original space.\n",
    "Sol0 = np.dot(np.random.rand(D1, r0), np.random.rand(r0, D1))\n",
    "Sol1 = np.dot(np.random.rand(D1, r1), np.random.rand(r1, D1))\n",
    "Sol2 = np.dot(np.random.rand(D1, r2), np.random.rand(r2, D1))\n",
    "Sol3 = np.dot(np.random.rand(D1, r3), np.random.rand(r3, D1))\n",
    "\n",
    "# Creating a list of solutions.\n",
    "matrices = [Sol0, Sol1, Sol2, Sol3]\n",
    "\n",
    "# Plot the solutions\n",
    "fig, (ax1, ax2, ax3, ax4) = plt.subplots(1, 4)\n",
    "ax1.title.set_text('Matrix 0')\n",
    "ax1.imshow(Sol0)\n",
    "ax2.title.set_text('Matrix 1')\n",
    "ax2.imshow(Sol1)\n",
    "ax3.title.set_text('Matrix 2')\n",
    "ax3.imshow(Sol2)\n",
    "ax4.title.set_text('Matrix 3')\n",
    "ax4.imshow(Sol3)\n",
    "plt.show()"
   ]
  },
  {
   "cell_type": "markdown",
   "metadata": {},
   "source": [
    "Instatiate the UQpy class Grassmann considering the `projection_kernel` as the a kernel definition on the Grassmann manifold."
   ]
  },
  {
   "cell_type": "code",
   "execution_count": null,
   "metadata": {},
   "outputs": [],
   "source": [
    "manifold_projection = SvdProjection(matrices, p_planes_dimensions=sys.maxsize,\n",
    "                                    kernel_composition=KernelComposition.LEFT)\n",
    "manifold = Grassmann(manifold_projected_points=manifold_projection)"
   ]
  },
  {
   "cell_type": "markdown",
   "metadata": {},
   "source": [
    "Compute the kernels for $\\Psi$ and $\\Phi$, the left and right -singular eigenvectors, respectively, of singular value decomposition of each solution."
   ]
  },
  {
   "cell_type": "code",
   "execution_count": null,
   "metadata": {},
   "outputs": [],
   "source": [
    "kernel_psi = manifold.evaluate_kernel_matrix(kernel=ProjectionKernel())\n",
    "\n",
    "manifold_projection.kernel_composition = KernelComposition.RIGHT\n",
    "kernel_phi = manifold.evaluate_kernel_matrix(kernel=ProjectionKernel())\n",
    "\n",
    "fig, (ax1, ax2) = plt.subplots(1, 2)\n",
    "ax1.title.set_text('kernel_psi')\n",
    "ax1.imshow(kernel_psi)\n",
    "ax2.title.set_text('kernel_phi')\n",
    "ax2.imshow(kernel_phi)\n",
    "plt.show()"
   ]
  },
  {
   "cell_type": "markdown",
   "metadata": {},
   "source": [
    "Compute the kernel only for 2 points."
   ]
  },
  {
   "cell_type": "code",
   "execution_count": null,
   "metadata": {},
   "outputs": [],
   "source": [
    "grassmann_points = OrthoMatrixPoints(input_points=[manifold_projection.psi[0],\n",
    "                                                   manifold_projection.psi[1],\n",
    "                                                   manifold_projection.psi[2]],\n",
    "                                     p_planes_dimensions=manifold_projection.p_planes_dimensions)\n",
    "manifold = Grassmann(manifold_projected_points=grassmann_points)\n",
    "kernel_01 = manifold.evaluate_kernel_matrix(kernel=ProjectionKernel())\n",
    "\n",
    "fig = plt.figure()\n",
    "plt.imshow(kernel_01)\n",
    "plt.show()"
   ]
  },
  {
   "cell_type": "markdown",
   "metadata": {},
   "source": [
    "Compute the kernels for $\\Psi$ and $\\Phi$, the left and right -singular eigenvectors, respectively, of singular value decomposition of each solution. In this case, use an user defined function `my_kernel`."
   ]
  },
  {
   "cell_type": "code",
   "execution_count": null,
   "metadata": {},
   "outputs": [],
   "source": [
    "class UserKernel(Kernel):\n",
    "\n",
    "    def apply_method(self, data):\n",
    "        data.evaluate_matrix(self, self.kernel_operator)\n",
    "\n",
    "    def pointwise_operator(self, x0, x1):\n",
    "        if not isinstance(x0, list) and not isinstance(x0, np.ndarray):\n",
    "            raise TypeError('UQpy: x0 must be either list or numpy.ndarray.')\n",
    "        else:\n",
    "            x0 = np.array(x0)\n",
    "\n",
    "        if not isinstance(x1, list) and not isinstance(x1, np.ndarray):\n",
    "            raise TypeError('UQpy: x1 must be either list or numpy.ndarray.')\n",
    "        else:\n",
    "            x1 = np.array(x1)\n",
    "\n",
    "        r = np.dot(x0.T, x1)\n",
    "        det = np.linalg.det(r)\n",
    "        ker = det * det\n",
    "        return ker\n",
    "\n",
    "manifold_projection.kernel_composition = KernelComposition.LEFT\n",
    "kernel_user_psi = manifold.evaluate_kernel_matrix(kernel=UserKernel())\n",
    "\n",
    "manifold_projection.kernel_composition = KernelComposition.RIGHT\n",
    "kernel_user_phi = manifold.evaluate_kernel_matrix(kernel=UserKernel())\n",
    "\n",
    "\n",
    "fig, (ax1, ax2) = plt.subplots(1, 2)\n",
    "ax1.title.set_text('kernel_psi')\n",
    "ax1.imshow(kernel_user_psi)\n",
    "ax2.title.set_text('kernel_phi')\n",
    "ax2.imshow(kernel_user_phi)\n",
    "plt.show()"
   ]
  },
  {
   "cell_type": "code",
   "execution_count": null,
   "metadata": {},
   "outputs": [],
   "source": []
  }
 ],
 "metadata": {
  "kernelspec": {
   "display_name": "Python 3 (ipykernel)",
   "language": "python",
   "name": "python3"
  },
  "language_info": {
   "codemirror_mode": {
    "name": "ipython",
    "version": 3
   },
   "file_extension": ".py",
   "mimetype": "text/x-python",
   "name": "python",
   "nbconvert_exporter": "python",
   "pygments_lexer": "ipython3",
   "version": "3.9.6"
  }
 },
 "nbformat": 4,
 "nbformat_minor": 2
}
