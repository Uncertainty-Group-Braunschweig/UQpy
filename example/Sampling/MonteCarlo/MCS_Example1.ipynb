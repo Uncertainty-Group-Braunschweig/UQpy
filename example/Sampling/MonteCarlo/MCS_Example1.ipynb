{
 "cells": [
  {
   "cell_type": "markdown",
   "metadata": {},
   "source": [
    "# Monte Carlo sampling with UQpy\n",
    "\n",
    "Authors: Dimitris G. Giovanis, Andrew Solanto  \n",
    "Date: February 10, 2022  \n",
    "UQpy Version 4.0"
   ]
  },
  {
   "cell_type": "markdown",
   "metadata": {},
   "source": [
    "We'll be using UQpy's Monte Carlo sampling in conjunction with its normal distribution functionalities. We also use Matplotlib to display results graphically.\n",
    "\n",
    "Additionally, this demonstration opts to use Numpy's random state management to ensure that results are reproducible between notebook runs."
   ]
  },
  {
   "cell_type": "code",
   "execution_count": 11,
   "metadata": {},
   "outputs": [],
   "source": [
    "from UQpy.sampling import MonteCarloSampling\n",
    "from UQpy.distributions import Normal\n",
    "\n",
    "import matplotlib.pyplot as plt\n",
    "\n",
    "from numpy.random import RandomState"
   ]
  },
  {
   "cell_type": "markdown",
   "metadata": {},
   "source": [
    "We'll start by constructing two identical standard normal distributions `dist1` and `dist2`."
   ]
  },
  {
   "cell_type": "code",
   "execution_count": 12,
   "metadata": {},
   "outputs": [],
   "source": [
    "dist1 = dist2 = Normal()"
   ]
  },
  {
   "cell_type": "markdown",
   "metadata": {},
   "source": [
    "Next, we'll construct a `MonteCarloSampling` object `mc` to generate random samples following those distributions. Here, we specify an optional initial number of samples `nsamples` to be generated at the object's construction.\n",
    "\n",
    "For the purposes of this demonstration, we also supply a random seed `random_state`."
   ]
  },
  {
   "cell_type": "code",
   "execution_count": 13,
   "metadata": {},
   "outputs": [
    {
     "name": "stdout",
     "output_type": "stream",
     "text": [
      "[[-1.0856306   1.65143654]\n",
      " [ 0.99734545 -2.42667924]\n",
      " [ 0.2829785  -0.42891263]\n",
      " [-1.50629471  1.26593626]\n",
      " [-0.57860025 -0.8667404 ]]\n"
     ]
    }
   ],
   "source": [
    "mc = MonteCarloSampling(distributions=[dist1, dist2],\n",
    "                        nsamples=5,\n",
    "                        random_state=RandomState(123))\n",
    "\n",
    "print(mc.samples)"
   ]
  },
  {
   "cell_type": "markdown",
   "metadata": {},
   "source": [
    "To generate more samples on `montecarlo` after construction, we call `montecarlo.run` and once again specify `nsamples`."
   ]
  },
  {
   "cell_type": "code",
   "execution_count": 14,
   "metadata": {},
   "outputs": [
    {
     "name": "stdout",
     "output_type": "stream",
     "text": [
      "[[-1.0856306   1.65143654]\n",
      " [ 0.99734545 -2.42667924]\n",
      " [ 0.2829785  -0.42891263]\n",
      " [-1.50629471  1.26593626]\n",
      " [-0.57860025 -0.8667404 ]\n",
      " [ 0.66698806 -0.77761941]\n",
      " [ 0.02581308  0.94863382]]\n"
     ]
    }
   ],
   "source": [
    "mc.run(nsamples=2, random_state=RandomState(23))\n",
    "\n",
    "print(mc.samples)"
   ]
  },
  {
   "cell_type": "markdown",
   "metadata": {},
   "source": [
    "We can apply the probability integral transformation on the samples to yield similar samples from the uniform distribution. We call `mc.transform_u01`, from which results are stored in the `samplesU01` attribute."
   ]
  },
  {
   "cell_type": "code",
   "execution_count": 15,
   "metadata": {},
   "outputs": [
    {
     "name": "stdout",
     "output_type": "stream",
     "text": [
      "[[0.13882123 0.95067527]\n",
      " [0.84070157 0.00761886]\n",
      " [0.61140334 0.3339934 ]\n",
      " [0.06599577 0.89723205]\n",
      " [0.28142947 0.19304213]\n",
      " [0.74761012 0.21839671]\n",
      " [0.51029679 0.82859656]]\n"
     ]
    }
   ],
   "source": [
    "mc.transform_u01()\n",
    "\n",
    "print(mc.samplesU01)"
   ]
  },
  {
   "cell_type": "markdown",
   "metadata": {},
   "source": [
    "We can visualize the (untransformed) samples by plotting them on axes of each distribution's range."
   ]
  },
  {
   "cell_type": "code",
   "execution_count": 33,
   "metadata": {},
   "outputs": [
    {
     "data": {
      "image/png": "[encoded data removed]",
      "text/plain": [
       "<Figure size 432x288 with 1 Axes>"
      ]
     },
     "metadata": {
      "needs_background": "light"
     },
     "output_type": "display_data"
    }
   ],
   "source": [
    "fig, ax = plt.subplots()\n",
    "plt.title('Samples')\n",
    "\n",
    "plt.scatter(x = mc.samples[:, 0],\n",
    "            y = mc.samples[:, 1],\n",
    "            marker = 'o')\n",
    "\n",
    "plt.setp(ax, xlim=(-1.7, 1.7), ylim=(-2.6, 2.6))\n",
    "ax.yaxis.grid(True)\n",
    "ax.xaxis.grid(True)"
   ]
  },
  {
   "cell_type": "markdown",
   "metadata": {},
   "source": [
    "As well, we can visualize each distribution's sample densities via histograms."
   ]
  },
  {
   "cell_type": "code",
   "execution_count": 36,
   "metadata": {},
   "outputs": [
    {
     "data": {
      "image/png": "[encoded data removed]",
      "text/plain": [
       "<Figure size 432x288 with 2 Axes>"
      ]
     },
     "metadata": {
      "needs_background": "light"
     },
     "output_type": "display_data"
    }
   ],
   "source": [
    "fig, ax = plt.subplots(1, 2)\n",
    "\n",
    "for i in (0, 1):\n",
    "    ax[i].set_title('Distribution ' + str(i + 1))\n",
    "    ax[i].hist(mc.samples[:, i])\n",
    "    ax[i].yaxis.grid(True)\n",
    "    ax[i].xaxis.grid(True)\n",
    "\n",
    "plt.setp(ax, xlim=(-3, 3), ylim=(0, 2));"
   ]
  },
  {
   "cell_type": "markdown",
   "metadata": {},
   "source": [
    "---\n",
    "\n",
    "TODO: are these remaining examples necessary?"
   ]
  },
  {
   "cell_type": "code",
   "execution_count": 18,
   "metadata": {},
   "outputs": [
    {
     "name": "stdout",
     "output_type": "stream",
     "text": [
      "[[-1.0856306   1.65143654]\n",
      " [ 0.99734545 -2.42667924]\n",
      " [ 0.2829785  -0.42891263]\n",
      " [-1.50629471  1.26593626]\n",
      " [-0.57860025 -0.8667404 ]\n",
      " [ 0.66698806 -0.77761941]\n",
      " [ 0.02581308  0.94863382]\n",
      " [ 0.70167179 -0.36754812]\n",
      " [-1.05108156 -1.13745969]]\n"
     ]
    }
   ],
   "source": [
    "mc.run(nsamples=2)\n",
    "\n",
    "print(mc.samples)"
   ]
  },
  {
   "cell_type": "code",
   "execution_count": 19,
   "metadata": {},
   "outputs": [
    {
     "name": "stdout",
     "output_type": "stream",
     "text": [
      "[[0.13882123 0.95067527]\n",
      " [0.84070157 0.00761886]\n",
      " [0.61140334 0.3339934 ]\n",
      " [0.06599577 0.89723205]\n",
      " [0.28142947 0.19304213]\n",
      " [0.74761012 0.21839671]\n",
      " [0.51029679 0.82859656]\n",
      " [0.75855807 0.3566051 ]\n",
      " [0.14661057 0.12767308]]\n"
     ]
    }
   ],
   "source": [
    "mc.transform_u01()\n",
    "\n",
    "print(mc.samplesU01)"
   ]
  },
  {
   "cell_type": "code",
   "execution_count": null,
   "metadata": {},
   "outputs": [
    {
     "name": "stdout",
     "output_type": "stream",
     "text": [
      "\n",
      "[[ 2.21206564  1.21635688]\n",
      " [-0.09732382  2.8152297 ]\n",
      " [-1.30600471  4.1038246 ]\n",
      " [ 0.50407636  2.54147535]\n",
      " [ 1.61407521  1.54649951]]\n"
     ]
    },
    {
     "data": {
      "image/png": "[encoded data removed]",
      "text/plain": [
       "<Figure size 432x288 with 1 Axes>"
      ]
     },
     "metadata": {
      "needs_background": "light"
     },
     "output_type": "display_data"
    },
    {
     "name": "stdout",
     "output_type": "stream",
     "text": [
      "\n",
      "MCS extended samples: [[ 2.21206564  1.21635688]\n",
      " [-0.09732382  2.8152297 ]\n",
      " [-1.30600471  4.1038246 ]\n",
      " [ 0.50407636  2.54147535]\n",
      " [ 1.61407521  1.54649951]\n",
      " [ 4.74349145 -0.05303308]\n",
      " [ 3.26378416  1.58681057]]\n"
     ]
    }
   ],
   "source": [
    "# We are going to run MCS for a multivariate normal distribution random variables.\n",
    "from UQpy.distributions import MultivariateNormal\n",
    "dist = MultivariateNormal(mean=[1., 2.], cov=[[4., -0.9], [-0.9, 1.]])\n",
    "\n",
    "x1 = MonteCarloSampling(distributions=dist, nsamples=5, random_state=np.random.RandomState(456))\n",
    "print()\n",
    "print(x1.samples)\n",
    "\n",
    "# plot the samples\n",
    "fig, ax = plt.subplots()\n",
    "plt.title('MC sampling')\n",
    "plt.scatter(x1.samples[:, 0], x1.samples[:, 1], marker='o')\n",
    "ax.yaxis.grid(True)\n",
    "ax.xaxis.grid(True)\n",
    "plt.show()\n",
    "\n",
    "# Use the MCS.run method in order to add 2 samples in the existing ones.\n",
    "x1.run(nsamples=2)\n",
    "print()\n",
    "print('MCS extended samples:', x1.samples)\n",
    "\n",
    "# Use the MCS.transform_u01 method in order transform the samples to the Uniform [0,1] space.\n",
    "# However, in order to use this method all distributions need to have a ``cdf`` method.\n",
    "# For example, in this case the MVNormal distribution does not have a ``cdf`` method so the code\n",
    "# will give an error.\n",
    "x1.transform_u01()"
   ]
  },
  {
   "cell_type": "code",
   "execution_count": null,
   "metadata": {},
   "outputs": [
    {
     "name": "stdout",
     "output_type": "stream",
     "text": [
      "\n",
      "MCS samples: [[array([-1.1081114]) array([2.9781381 , 1.51253378])]\n",
      " [array([-0.72571863]) array([1.96173102, 0.89589751])]\n",
      " [array([0.52280433]) array([-0.91034353,  3.25303316])]\n",
      " [array([1.2344419]) array([-1.75177129,  2.37998095])]\n",
      " [array([0.09689585]) array([1.43288471, 1.1029768 ])]]\n",
      "5\n",
      "2\n",
      "\n",
      "MVNormal samples: [[ 2.9781381   1.51253378]\n",
      " [ 1.96173102  0.89589751]\n",
      " [-0.91034353  3.25303316]\n",
      " [-1.75177129  2.37998095]\n",
      " [ 1.43288471  1.1029768 ]]\n",
      "\n",
      "MCS extended samples: [[array([-1.1081114]) array([2.9781381 , 1.51253378])]\n",
      " [array([-0.72571863]) array([1.96173102, 0.89589751])]\n",
      " [array([0.52280433]) array([-0.91034353,  3.25303316])]\n",
      " [array([1.2344419]) array([-1.75177129,  2.37998095])]\n",
      " [array([0.09689585]) array([1.43288471, 1.1029768 ])]\n",
      " [array([-1.75326594]) array([3.37476301, 2.48107982])]\n",
      " [array([0.26386684]) array([4.51310267, 1.47752039])]]\n"
     ]
    },
    {
     "name": "stderr",
     "output_type": "stream",
     "text": [
      "d:\\code\\uqpy\\src\\UQpy\\sampling\\MonteCarloSampling.py:148: VisibleDeprecationWarning: Creating an ndarray from ragged nested sequences (which is a list-or-tuple of lists-or-tuples-or ndarrays with different lengths or shapes) is deprecated. If you meant to do this, you must specify 'dtype=object' when creating the ndarray.\n",
      "  self.x.append(np.array(y))\n"
     ]
    }
   ],
   "source": [
    "# We are going to run MCS for a multivariate normal distribution and a standard normal distribution.\n",
    "x2 = MonteCarloSampling(distributions=[dist1, dist], nsamples=5, random_state=np.random.RandomState(789))\n",
    "print()\n",
    "print('MCS samples:', x2.samples)\n",
    "\n",
    "print(len(x2.samples))\n",
    "print(len(x2.samples[0]))\n",
    "\n",
    "# Extract samples for the multivariate distribution\n",
    "samples = np.zeros(shape=(len(x2.samples), len(x2.samples[1])))\n",
    "for i in range(len(x2.samples)):\n",
    "    samples[i, :] = x2.samples[i][1]\n",
    "print()\n",
    "print('MVNormal samples:', samples)\n",
    "\n",
    "# Use the MCS.run method in order to add 2 samples in the existing ones.\n",
    "x2.run(nsamples=2)\n",
    "print()\n",
    "print('MCS extended samples:', x2.samples)"
   ]
  },
  {
   "cell_type": "code",
   "execution_count": null,
   "metadata": {},
   "outputs": [
    {
     "name": "stdout",
     "output_type": "stream",
     "text": [
      "\n",
      "MCS samples: [[[ 0.09892052]\n",
      "  [ 4.        ]]\n",
      "\n",
      " [[ 0.66902676]\n",
      "  [ 3.        ]]\n",
      "\n",
      " [[-0.89522328]\n",
      "  [ 3.        ]]\n",
      "\n",
      " [[-0.14470493]\n",
      "  [ 1.        ]]\n",
      "\n",
      " [[ 1.17915057]\n",
      "  [ 0.        ]]]\n"
     ]
    }
   ],
   "source": [
    "# Draw samples from a continuous and discrete distribution\n",
    "from UQpy.distributions import Binomial\n",
    "dist3 = Binomial(n=5, p=0.4)\n",
    "x3 = MonteCarloSampling(distributions=[dist1, dist3], nsamples=5)\n",
    "\n",
    "print()\n",
    "print('MCS samples:', x3.samples)"
   ]
  }
 ],
 "metadata": {
  "kernelspec": {
   "display_name": "Python 3 (ipykernel)",
   "language": "python",
   "name": "python3"
  },
  "language_info": {
   "codemirror_mode": {
    "name": "ipython",
    "version": 3
   },
   "file_extension": ".py",
   "mimetype": "text/x-python",
   "name": "python",
   "nbconvert_exporter": "python",
   "pygments_lexer": "ipython3",
   "version": "3.9.4"
  }
 },
 "nbformat": 4,
 "nbformat_minor": 2
}
