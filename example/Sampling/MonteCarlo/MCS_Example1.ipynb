{
 "cells": [
  {
   "cell_type": "markdown",
   "metadata": {},
   "source": [
    "# Monte Carlo sampling with UQpy"
   ]
  },
  {
   "cell_type": "markdown",
   "metadata": {},
   "source": [
    "We'll be using UQpy's Monte Carlo sampling functionalities. We also use Matplotlib to display results graphically.\n",
    "\n",
    "Additionally, this demonstration opts to use Numpy's random state management to ensure that results are reproducible between notebook runs.\n",
    "\n",
    "TODO: add goalsy summary like in `Distributions_Example1.ipynb`/key takeaways"
   ]
  },
  {
   "cell_type": "code",
   "execution_count": 83,
   "metadata": {},
   "outputs": [],
   "source": [
    "from UQpy.sampling import MonteCarloSampling\n",
    "import matplotlib.pyplot as plt\n",
    "\n",
    "from numpy.random import RandomState"
   ]
  },
  {
   "cell_type": "markdown",
   "metadata": {},
   "source": [
    "## Step-by-step: continuous univariate distribution"
   ]
  },
  {
   "cell_type": "markdown",
   "metadata": {},
   "source": [
    "First, we import UQpy's normal distribution class."
   ]
  },
  {
   "cell_type": "code",
   "execution_count": 84,
   "metadata": {},
   "outputs": [],
   "source": [
    "from UQpy.distributions import Normal"
   ]
  },
  {
   "cell_type": "markdown",
   "metadata": {},
   "source": [
    "We'll start by constructing two identical standard normal distributions `normal1` and `normal2`."
   ]
  },
  {
   "cell_type": "code",
   "execution_count": 85,
   "metadata": {},
   "outputs": [],
   "source": [
    "normal1 = normal2 = Normal()"
   ]
  },
  {
   "cell_type": "markdown",
   "metadata": {},
   "source": [
    "Next, we'll construct a `MonteCarloSampling` object `mc` to generate random samples following those distributions. Here, we specify an optional initial number of samples `nsamples` to be generated at the object's construction. For the purposes of this demonstration, we also supply a random seed `random_state`.\n",
    "\n",
    "We access the generated samples via the `samples` attribute."
   ]
  },
  {
   "cell_type": "code",
   "execution_count": 86,
   "metadata": {},
   "outputs": [
    {
     "data": {
      "text/plain": [
       "array([[-1.0856306 ,  1.65143654],\n",
       "       [ 0.99734545, -2.42667924],\n",
       "       [ 0.2829785 , -0.42891263],\n",
       "       [-1.50629471,  1.26593626],\n",
       "       [-0.57860025, -0.8667404 ]])"
      ]
     },
     "execution_count": 86,
     "metadata": {},
     "output_type": "execute_result"
    }
   ],
   "source": [
    "mc = MonteCarloSampling(distributions=[normal1, normal2],\n",
    "                        nsamples=5,\n",
    "                        random_state=RandomState(123))\n",
    "\n",
    "mc.samples"
   ]
  },
  {
   "cell_type": "markdown",
   "metadata": {},
   "source": [
    "To generate more samples on `mc` after construction, we call `mc.run` and once again specify `nsamples`."
   ]
  },
  {
   "cell_type": "code",
   "execution_count": 87,
   "metadata": {},
   "outputs": [
    {
     "data": {
      "text/plain": [
       "array([[-1.0856306 ,  1.65143654],\n",
       "       [ 0.99734545, -2.42667924],\n",
       "       [ 0.2829785 , -0.42891263],\n",
       "       [-1.50629471,  1.26593626],\n",
       "       [-0.57860025, -0.8667404 ],\n",
       "       [ 0.66698806, -0.77761941],\n",
       "       [ 0.02581308,  0.94863382]])"
      ]
     },
     "execution_count": 87,
     "metadata": {},
     "output_type": "execute_result"
    }
   ],
   "source": [
    "mc.run(nsamples=2, random_state=RandomState(23))\n",
    "\n",
    "mc.samples"
   ]
  },
  {
   "cell_type": "markdown",
   "metadata": {},
   "source": [
    "We can transform the samples onto the unit hypercube via applying the probability integral transformation on the samples to yield similar samples from the uniform distribution. We call `mc.transform_u01`, from which results are stored in the `samplesU01` attribute."
   ]
  },
  {
   "cell_type": "code",
   "execution_count": 88,
   "metadata": {},
   "outputs": [
    {
     "data": {
      "text/plain": [
       "array([[0.13882123, 0.95067527],\n",
       "       [0.84070157, 0.00761886],\n",
       "       [0.61140334, 0.3339934 ],\n",
       "       [0.06599577, 0.89723205],\n",
       "       [0.28142947, 0.19304213],\n",
       "       [0.74761012, 0.21839671],\n",
       "       [0.51029679, 0.82859656]])"
      ]
     },
     "execution_count": 88,
     "metadata": {},
     "output_type": "execute_result"
    }
   ],
   "source": [
    "mc.transform_u01()\n",
    "\n",
    "mc.samplesU01"
   ]
  },
  {
   "cell_type": "markdown",
   "metadata": {},
   "source": [
    "We can visualize the (untransformed) samples by plotting them on axes of each distribution's range."
   ]
  },
  {
   "cell_type": "code",
   "execution_count": 89,
   "metadata": {},
   "outputs": [
    {
     "data": {
      "image/png": "[encoded data removed]",
      "text/plain": [
       "<Figure size 432x288 with 1 Axes>"
      ]
     },
     "metadata": {
      "needs_background": "light"
     },
     "output_type": "display_data"
    }
   ],
   "source": [
    "fig, ax = plt.subplots()\n",
    "plt.title('Samples')\n",
    "\n",
    "plt.scatter(x = mc.samples[:, 0],\n",
    "            y = mc.samples[:, 1],\n",
    "            marker = 'o')\n",
    "\n",
    "plt.setp(ax, xlim=(-1.7, 1.7), ylim=(-2.6, 2.6))\n",
    "ax.yaxis.grid(True)\n",
    "ax.xaxis.grid(True)"
   ]
  },
  {
   "cell_type": "markdown",
   "metadata": {},
   "source": [
    "As well, we can visualize each distribution's sample densities via histograms."
   ]
  },
  {
   "cell_type": "code",
   "execution_count": 90,
   "metadata": {},
   "outputs": [
    {
     "data": {
      "image/png": "[encoded data removed]",
      "text/plain": [
       "<Figure size 432x288 with 2 Axes>"
      ]
     },
     "metadata": {
      "needs_background": "light"
     },
     "output_type": "display_data"
    }
   ],
   "source": [
    "fig, ax = plt.subplots(1, 2)\n",
    "\n",
    "for i in (0, 1):\n",
    "    ax[i].set_title('Distribution ' + str(i + 1))\n",
    "    ax[i].hist(mc.samples[:, i])\n",
    "    ax[i].yaxis.grid(True)\n",
    "    ax[i].xaxis.grid(True)\n",
    "\n",
    "plt.setp(ax, xlim=(-3, 3), ylim=(0, 2));"
   ]
  },
  {
   "cell_type": "markdown",
   "metadata": {},
   "source": [
    "## Additional examples"
   ]
  },
  {
   "cell_type": "markdown",
   "metadata": {},
   "source": [
    "### Continuous multivariate distribution"
   ]
  },
  {
   "cell_type": "markdown",
   "metadata": {},
   "source": [
    "We'll use UQpy's multivariate normal class."
   ]
  },
  {
   "cell_type": "code",
   "execution_count": 91,
   "metadata": {},
   "outputs": [],
   "source": [
    "from UQpy.distributions import MultivariateNormal"
   ]
  },
  {
   "cell_type": "markdown",
   "metadata": {},
   "source": [
    "And we construct a multivariate normal distribution `mvnormal` specifying parameters `mean` with a vector of mean values and `cov` with a covariance matrix."
   ]
  },
  {
   "cell_type": "code",
   "execution_count": 92,
   "metadata": {},
   "outputs": [],
   "source": [
    "mvnormal = MultivariateNormal(mean = [1, 2],\n",
    "                              cov = [[ 4,  -0.9],\n",
    "                                     [-0.9, 1  ]])"
   ]
  },
  {
   "cell_type": "markdown",
   "metadata": {},
   "source": [
    "With this distribution, we construct a `MonteCarloSampling` object `mvmc` and generate five samples on construction."
   ]
  },
  {
   "cell_type": "code",
   "execution_count": 93,
   "metadata": {},
   "outputs": [
    {
     "data": {
      "text/plain": [
       "array([[ 2.21206564,  1.21635688],\n",
       "       [-0.09732382,  2.8152297 ],\n",
       "       [-1.30600471,  4.1038246 ],\n",
       "       [ 0.50407636,  2.54147535],\n",
       "       [ 1.61407521,  1.54649951]])"
      ]
     },
     "execution_count": 93,
     "metadata": {},
     "output_type": "execute_result"
    }
   ],
   "source": [
    "mvmc = MonteCarloSampling(distributions = mvnormal,\n",
    "                          nsamples = 5,\n",
    "                          random_state = RandomState(456))\n",
    "\n",
    "mvmc.samples"
   ]
  },
  {
   "cell_type": "markdown",
   "metadata": {},
   "source": [
    "### Mixing a multivariate and a univariate continuous distribution"
   ]
  },
  {
   "cell_type": "markdown",
   "metadata": {},
   "source": [
    "Here, we use one of our normal distributions and our multivariate normal distribution. Notice how each distribution has its own bundle (array) of samples per run of sampling—even when that bundle contains a single value."
   ]
  },
  {
   "cell_type": "code",
   "execution_count": 94,
   "metadata": {},
   "outputs": [
    {
     "name": "stderr",
     "output_type": "stream",
     "text": [
      "d:\\code\\uqpy\\src\\UQpy\\sampling\\MonteCarloSampling.py:148: VisibleDeprecationWarning: Creating an ndarray from ragged nested sequences (which is a list-or-tuple of lists-or-tuples-or ndarrays with different lengths or shapes) is deprecated. If you meant to do this, you must specify 'dtype=object' when creating the ndarray.\n",
      "  self.x.append(np.array(y))\n"
     ]
    },
    {
     "data": {
      "text/plain": [
       "array([[array([-1.1081114]), array([2.9781381 , 1.51253378])],\n",
       "       [array([-0.72571863]), array([1.96173102, 0.89589751])],\n",
       "       [array([0.52280433]), array([-0.91034353,  3.25303316])],\n",
       "       [array([1.2344419]), array([-1.75177129,  2.37998095])],\n",
       "       [array([0.09689585]), array([1.43288471, 1.1029768 ])]],\n",
       "      dtype=object)"
      ]
     },
     "execution_count": 94,
     "metadata": {},
     "output_type": "execute_result"
    }
   ],
   "source": [
    "mixedmc = MonteCarloSampling(distributions = [normal1, mvnormal],\n",
    "                             nsamples = 5,\n",
    "                             random_state = RandomState(789))\n",
    "\n",
    "mixedmc.samples"
   ]
  },
  {
   "cell_type": "markdown",
   "metadata": {},
   "source": [
    "### Mixing a continuous and a discrete distribution"
   ]
  },
  {
   "cell_type": "markdown",
   "metadata": {},
   "source": [
    "We'll use UQpy's binomial distribution class for our discrete distribution."
   ]
  },
  {
   "cell_type": "code",
   "execution_count": 95,
   "metadata": {},
   "outputs": [],
   "source": [
    "from UQpy.distributions import Binomial"
   ]
  },
  {
   "cell_type": "markdown",
   "metadata": {},
   "source": [
    "With that, we'll construct a binomial distribution `binomial` with five trials `n` and a 40% probability `p` of success per trial."
   ]
  },
  {
   "cell_type": "code",
   "execution_count": 96,
   "metadata": {},
   "outputs": [],
   "source": [
    "binomial = Binomial(n=5, p=0.4)"
   ]
  },
  {
   "cell_type": "markdown",
   "metadata": {},
   "source": [
    "And we construct a `MonteCarloSampling` object `cdmv` with five initial samples using our binomial distribution and one of our normal distributions."
   ]
  },
  {
   "cell_type": "code",
   "execution_count": 97,
   "metadata": {},
   "outputs": [
    {
     "data": {
      "text/plain": [
       "array([[[ 2.        ],\n",
       "        [-0.23549804]],\n",
       "\n",
       "       [[ 3.        ],\n",
       "        [-0.37236414]],\n",
       "\n",
       "       [[ 0.        ],\n",
       "        [-0.52811698]],\n",
       "\n",
       "       [[ 1.        ],\n",
       "        [-0.48079156]],\n",
       "\n",
       "       [[ 2.        ],\n",
       "        [ 0.63909145]]])"
      ]
     },
     "execution_count": 97,
     "metadata": {},
     "output_type": "execute_result"
    }
   ],
   "source": [
    "cdmv = MonteCarloSampling(distributions = [binomial, normal1],\n",
    "                          nsamples = 5,\n",
    "                          random_state = RandomState(333))\n",
    "\n",
    "cdmv.samples"
   ]
  }
 ],
 "metadata": {
  "kernelspec": {
   "display_name": "Python 3 (ipykernel)",
   "language": "python",
   "name": "python3"
  },
  "language_info": {
   "codemirror_mode": {
    "name": "ipython",
    "version": 3
   },
   "file_extension": ".py",
   "mimetype": "text/x-python",
   "name": "python",
   "nbconvert_exporter": "python",
   "pygments_lexer": "ipython3",
   "version": "3.9.4"
  }
 },
 "nbformat": 4,
 "nbformat_minor": 2
}
