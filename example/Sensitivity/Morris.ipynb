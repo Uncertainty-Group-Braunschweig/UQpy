{
 "cells": [
  {
   "cell_type": "markdown",
   "metadata": {
    "collapsed": true
   },
   "source": [
    "# Morris screening\n",
    "\n",
    "Consider a model of the sort $Y=h(X)$, $Y$ is assumed to be scalar, $X=[X_{1}, ..., X_{d}]$.\n",
    "\n",
    "For each input $X_{k}$, the elementary effect is computed as:\n",
    "\\begin{equation*}\n",
    "EE_{k} = \\frac{Y(X_{1}, ..., X_{k}+\\Delta, ..., X_{d})-Y(X_{1}, ..., X_{k}, ..., X_{d})}{\\Delta}\n",
    "\\end{equation*}\n",
    "where $\\Delta$ is chosen so that $X_{k}+\\Delta$ is still in the allowable domain for every dimension $k$.\n",
    "\n",
    "The key idea of the original Morris method is to initiate trajectories from various “nominal” points X randomly selected over the grid and then gradually advancing one $\\Delta$ at a time between each model evaluation (one at a time OAT design), along a different dimension of the parameter space selected randomly. For $r$ trajectories (usually set $r$ between 5 and 50), the number of simulations required is $r (d+1)$.\n",
    "\n",
    "Sensitivity indices are computed as:\n",
    "\\begin{equation*}\n",
    "\\mu_{k}^{\\star} = \\frac{1}{r} \\sum_{i=1}^{r} \\vert EE_{k}^{r} \\vert\n",
    "\\end{equation*}\n",
    "\\begin{equation*}\n",
    "\\sigma_{k} = \\sqrt{ \\frac{1}{r} \\sum_{i=1}^{r} \\left( EE_{k}^{r} - \\mu_{k} \\right)^{2}}\n",
    "\\end{equation*}\n",
    "\n",
    "It allows differentiation between three groups of inputs:\n",
    "- Parameters with noninfluential effects, i.e., the parameters that have relatively small values of both $\\mu_{k}^{\\star}$ and $\\sigma_{k}$.\n",
    "- Parameters with linear and/or additive effects, i.e., the parameters that have a relatively large value of $\\mu_{k}^{\\star}$ and relatively small value of $\\sigma_{k}$ (the magnitude of the effect $\\mu_{k}^{\\star}$ is consistently large, regardless of the other parameter values, i.e., no interaction).\n",
    "- Parameters with nonlinear and/or interaction effects, i.e., the parameters that have a relatively small value of $\\mu_{k}^{\\star}$ and a relatively large value of $\\sigma_{k}$ (large value of $\\sigma_{k}$ indicates that the effect can be large or small depending on the other values of parameters at which the model is evaluated, indicates potential interaction between parameters).\n"
   ]
  },
  {
   "cell_type": "code",
   "execution_count": 1,
   "metadata": {},
   "outputs": [],
   "source": [
    "from UQpy.RunModel import RunModel\n",
    "from UQpy.distributions import Uniform\n",
    "from UQpy.sensitivity import MorrisSensitivity\n",
    "import numpy as np\n",
    "import matplotlib.pyplot as plt"
   ]
  },
  {
   "cell_type": "markdown",
   "metadata": {},
   "source": [
    "## Test on 2-dimensional g-function"
   ]
  },
  {
   "cell_type": "code",
   "execution_count": 2,
   "metadata": {},
   "outputs": [],
   "source": [
    "# Set-up problem with g function\n",
    "a_values = [0.001, 99.]\n",
    "na = len(a_values)\n",
    "\n",
    "var_names = ['X{}'.format(i) for i in range(na)]\n",
    "runmodel_object = RunModel(\n",
    "    model_script='pfn.py', model_object_name='gfun_sensitivity', var_names=var_names, vec=True,\n",
    "    a_values=a_values)\n",
    "\n",
    "dist_object = [Uniform(), ] * na"
   ]
  },
  {
   "cell_type": "markdown",
   "metadata": {},
   "source": [
    "First plot contour of the function, clearly X2 has little influence on the function compared to X1"
   ]
  },
  {
   "cell_type": "code",
   "execution_count": 3,
   "metadata": {},
   "outputs": [
    {
     "data": {
      "image/png": "[encoded data removed]",
      "text/plain": [
       "<Figure size 432x288 with 1 Axes>"
      ]
     },
     "metadata": {
      "needs_background": "light"
     },
     "output_type": "display_data"
    }
   ],
   "source": [
    "x = np.arange(0, 1, 0.02)\n",
    "y = np.arange(0, 1, 0.02)\n",
    "xx, yy = np.meshgrid(x, y, sparse=False)\n",
    "runmodel_object.run(samples=np.vstack([xx.reshape((-1,)), yy.reshape((-1,))]).T, append_samples=False)\n",
    "h = plt.contourf(x, y, np.array(runmodel_object.qoi_list).reshape(xx.shape))\n",
    "plt.xlabel('X1')\n",
    "plt.ylabel('X2')\n",
    "plt.show()"
   ]
  },
  {
   "cell_type": "code",
   "execution_count": 4,
   "metadata": {},
   "outputs": [],
   "source": [
    "sens = MorrisSensitivity(runmodel_object=runmodel_object,\n",
    "                         distributions=dist_object,\n",
    "                         levels_number=9)\n",
    "sens.run(trajectories_number=10)"
   ]
  },
  {
   "cell_type": "code",
   "execution_count": 5,
   "metadata": {},
   "outputs": [
    {
     "data": {
      "image/png": "[encoded data removed]",
      "text/plain": [
       "<Figure size 288x288 with 1 Axes>"
      ]
     },
     "metadata": {
      "needs_background": "light"
     },
     "output_type": "display_data"
    }
   ],
   "source": [
    "fig, ax = plt.subplots(figsize=(4, 4))\n",
    "for trajectory in sens.trajectories_physical_space[:5]:\n",
    "    ax.plot(trajectory[:, 0], trajectory[:, 1], marker='x', linewidth=3)\n",
    "ax.set_xlim([0, 1])\n",
    "ax.set_ylim([0, 1])\n",
    "ax.set_xticks(np.arange(0., 1. + 0.5 / (sens.levels_number - 1), 1. / (sens.levels_number - 1)), minor=True)\n",
    "ax.set_xticks([0., 1.], minor=False)\n",
    "ax.set_xticklabels([0., 1.])\n",
    "ax.set_yticks(np.arange(0., 1. + 0.5 / (sens.levels_number - 1), 1. / (sens.levels_number - 1)), minor=True)\n",
    "ax.set_yticks([0., 1.], minor=False)\n",
    "ax.set_yticklabels([0., 1.])\n",
    "ax.grid(True, which='both')\n",
    "ax.set_xlabel(r'$X_{1}$', fontsize=14)\n",
    "ax.set_ylabel(r'$X_{2}$', fontsize=14)\n",
    "plt.show()"
   ]
  },
  {
   "cell_type": "code",
   "execution_count": 6,
   "metadata": {},
   "outputs": [
    {
     "name": "stdout",
     "output_type": "stream",
     "text": [
      "['a1=0.001', 'a2=99.0']\n"
     ]
    },
    {
     "data": {
      "image/png": "[encoded data removed]",
      "text/plain": [
       "<Figure size 432x288 with 1 Axes>"
      ]
     },
     "metadata": {
      "needs_background": "light"
     },
     "output_type": "display_data"
    }
   ],
   "source": [
    "print(['a{}={}'.format(i + 1, ai) for i, ai in enumerate(a_values)])\n",
    "\n",
    "fig, ax = plt.subplots()\n",
    "ax.scatter(sens.mustar_indices, sens.sigma_indices)\n",
    "for i, (mu, sig) in enumerate(zip(sens.mustar_indices, sens.sigma_indices)):\n",
    "    ax.text(x=mu + 0.01, y=sig + 0.01, s='X{}'.format(i + 1))\n",
    "ax.set_xlabel(r'$\\mu^{\\star}$', fontsize=14)\n",
    "ax.set_ylabel(r'$\\sigma$', fontsize=14)\n",
    "ax.set_title('Morris sensitivity indices', fontsize=16)\n",
    "plt.show()"
   ]
  },
  {
   "cell_type": "markdown",
   "metadata": {},
   "source": [
    "## Test on 12-dimensional g-function\n",
    "\n",
    "To be compared with results from \"An effective screening design for sensitivity analysis of large models\", Campolongo et al, 2007"
   ]
  },
  {
   "cell_type": "code",
   "execution_count": 7,
   "metadata": {},
   "outputs": [],
   "source": [
    "# Set-up problem with g function\n",
    "a_values = [0.001, 89.9, 5.54, 42.10, 0.78, 1.26, 0.04, 0.79, 74.51, 4.32, 82.51, 41.62]\n",
    "na = len(a_values)\n",
    "\n",
    "var_names = ['X{}'.format(i) for i in range(na)]\n",
    "runmodel_object = RunModel(\n",
    "    model_script='pfn.py', model_object_name='gfun_sensitivity', var_names=var_names, vec=True, a_values=a_values)\n",
    "\n",
    "dist_object = [Uniform(), ] * na"
   ]
  },
  {
   "cell_type": "code",
   "execution_count": 8,
   "metadata": {},
   "outputs": [],
   "source": [
    "sens = MorrisSensitivity(runmodel_object=runmodel_object,\n",
    "                         distributions=dist_object,\n",
    "                         levels_number=20,\n",
    "                         maximize_dispersion=True)\n",
    "sens.run(trajectories_number=10)"
   ]
  },
  {
   "cell_type": "code",
   "execution_count": 9,
   "metadata": {},
   "outputs": [
    {
     "name": "stdout",
     "output_type": "stream",
     "text": [
      "['a1=0.001', 'a2=89.9', 'a3=5.54', 'a4=42.1', 'a5=0.78', 'a6=1.26', 'a7=0.04', 'a8=0.79', 'a9=74.51', 'a10=4.32', 'a11=82.51', 'a12=41.62']\n"
     ]
    },
    {
     "data": {
      "image/png": "[encoded data removed]",
      "text/plain": [
       "<Figure size 432x288 with 1 Axes>"
      ]
     },
     "metadata": {
      "needs_background": "light"
     },
     "output_type": "display_data"
    }
   ],
   "source": [
    "print(['a{}={}'.format(i + 1, ai) for i, ai in enumerate(a_values)])\n",
    "\n",
    "fig, ax = plt.subplots()\n",
    "ax.scatter(sens.mustar_indices, sens.sigma_indices)\n",
    "for i, (mu, sig) in enumerate(zip(sens.mustar_indices, sens.sigma_indices)):\n",
    "    ax.text(x=mu + 0.01, y=sig + 0.01, s='X{}'.format(i + 1))\n",
    "ax.set_xlabel(r'$\\mu^{\\star}$', fontsize=14)\n",
    "ax.set_ylabel(r'$\\sigma$', fontsize=14)\n",
    "ax.set_title('Morris sensitivity indices', fontsize=16)\n",
    "plt.show()"
   ]
  },
  {
   "cell_type": "markdown",
   "metadata": {},
   "source": [
    "## Test with a function with nonlinearities / parameter dependencies\n",
    "\n",
    "$$Y = h(X) = 0.01 X_{1} + 1.0 X_{2} + 0.4 X_{3}^{2} + X_{4} X_{5} $$\n",
    "\n",
    "ranking of input parameters:\n",
    "- $X_{1}$ is non-influential\n",
    "- $X_{2}$ is influential, linear/additive effect (expect large $\\mu^{\\star}$ and small $\\sigma$)\n",
    "- $X_{3}$ is somewhat influential, nonlinear effect, \n",
    "- $X_{4}, X_{5}$ are influential with dependence"
   ]
  },
  {
   "cell_type": "code",
   "execution_count": 10,
   "metadata": {},
   "outputs": [],
   "source": [
    "# Set-up problem with g function\n",
    "\n",
    "var_names = ['X{}'.format(i) for i in range(5)]\n",
    "runmodel_object = RunModel(\n",
    "    model_script='pfn.py', model_object_name='fun2_sensitivity', var_names=var_names, vec=True)\n",
    "\n",
    "dist_object = [Uniform(), ] * 5"
   ]
  },
  {
   "cell_type": "code",
   "execution_count": 11,
   "metadata": {},
   "outputs": [],
   "source": [
    "sens = MorrisSensitivity(runmodel_object=runmodel_object,\n",
    "                         distributions=dist_object,\n",
    "                         levels_number=20, maximize_dispersion=True)\n",
    "sens.run(trajectories_number=10)"
   ]
  },
  {
   "cell_type": "code",
   "execution_count": 12,
   "metadata": {},
   "outputs": [
    {
     "data": {
      "image/png": "[encoded data removed]",
      "text/plain": [
       "<Figure size 360x252 with 1 Axes>"
      ]
     },
     "metadata": {
      "needs_background": "light"
     },
     "output_type": "display_data"
    }
   ],
   "source": [
    "fig, ax = plt.subplots(figsize=(5, 3.5))\n",
    "ax.scatter(sens.mustar_indices, sens.sigma_indices, s=60)\n",
    "for i, (mu, sig) in enumerate(zip(sens.mustar_indices, sens.sigma_indices)):\n",
    "    ax.text(x=mu + 0.01, y=sig + 0.01, s='X{}'.format(i + 1), fontsize=14)\n",
    "ax.set_xlabel(r'$\\mu^{\\star}$', fontsize=18)\n",
    "ax.set_ylabel(r'$\\sigma$', fontsize=18)\n",
    "# ax.set_title('Morris sensitivity indices', fontsize=16)\n",
    "plt.show()"
   ]
  }
 ],
 "metadata": {
  "kernelspec": {
   "display_name": "Python 3 (ipykernel)",
   "language": "python",
   "name": "python3"
  },
  "language_info": {
   "codemirror_mode": {
    "name": "ipython",
    "version": 3
   },
   "file_extension": ".py",
   "mimetype": "text/x-python",
   "name": "python",
   "nbconvert_exporter": "python",
   "pygments_lexer": "ipython3",
   "version": "3.9.6"
  }
 },
 "nbformat": 4,
 "nbformat_minor": 1
}
