{
 "cells": [
  {
   "cell_type": "markdown",
   "metadata": {},
   "source": [
    "### Polynomial Chaos Expansion example: Robot Arm function (8 random inputs, scalar output)"
   ]
  },
  {
   "cell_type": "markdown",
   "metadata": {},
   "source": [
    "Author: Katiana Kontolati, Dimitrios Loukrezis \\\n",
    "Date: May 7, 2021"
   ]
  },
  {
   "cell_type": "markdown",
   "metadata": {},
   "source": [
    "In this example, PCE is used to generate a surrogate model for a given set of 8D data."
   ]
  },
  {
   "cell_type": "markdown",
   "metadata": {},
   "source": [
    "### Robot arm function"
   ]
  },
  {
   "cell_type": "markdown",
   "metadata": {},
   "source": [
    "<img src=\"Example_RobotArm_function.png\" alt=\"Drawing\" style=\"width: 200px;\"/>\n",
    "\n",
    "**Dimensions:** 8\n",
    "\n",
    "**Description:**  Models the position of a robot arm which has four segments. \n",
    "\n",
    "**Input Domain:**  The input variables and their usual input ranges are: $[0,1]$ for the $L_i$ inputs and $[0,2\\pi]$ for the $\\theta_i$ inputs.\n",
    "\n",
    "**Function:**   $ f(\\textbf{x}) = \\Big( \\sum_{i=1}^{4}L_i cos\\Big(\\sum_{j=1}^{i} \\theta_j\\Big) \\Big)^{2} + \\Big( \\sum_{i=1}^{4}L_i sin\\Big(\\sum_{j=1}^{i} \\theta_j\\Big) \\Big)^{2} $\n",
    "\n",
    "**Output:** The square distance from the end of the robot arm to the origin.\n",
    "\n",
    "**Reference:**  An, J., & Owen, A. (2001). Quasi-regression. Journal of Complexity, 17(4), 588-607."
   ]
  },
  {
   "cell_type": "markdown",
   "metadata": {},
   "source": [
    "Import necessary libraries."
   ]
  },
  {
   "cell_type": "code",
   "execution_count": 1,
   "metadata": {},
   "outputs": [
    {
     "name": "stderr",
     "output_type": "stream",
     "text": [
      "The selected optimizer method does not support bounds and thus will be ignored.\n",
      "The selected optimizer method does not support bounds and thus will be ignored.\n"
     ]
    }
   ],
   "source": [
    "import numpy as np\n",
    "import matplotlib.pyplot as plt\n",
    "from UQpy.distributions import Uniform, JointIndependent\n",
    "from UQpy.surrogates import *"
   ]
  },
  {
   "cell_type": "markdown",
   "metadata": {},
   "source": [
    "Define the function."
   ]
  },
  {
   "cell_type": "code",
   "execution_count": 2,
   "metadata": {},
   "outputs": [],
   "source": [
    "def function(x):\n",
    "    # without square root\n",
    "    u1 = x[:,4]*np.cos(x[:,0])\n",
    "    u2 = x[:,4]*np.cos(x[:,0]) + x[:,5]*np.cos(np.sum(x[:,:2], axis=1))\n",
    "    u3 = x[:,4]*np.cos(x[:,0]) + x[:,5]*np.cos(np.sum(x[:,:2], axis=1)) + x[:,6]*np.cos(np.sum(x[:,:3], axis=1))\n",
    "    u4 = x[:,4]*np.cos(x[:,0]) + x[:,5]*np.cos(np.sum(x[:,:2], axis=1)) + x[:,6]*np.cos(np.sum(x[:,:3], axis=1)) + x[:,7]*np.cos(np.sum(x[:,:4], axis=1))\n",
    "\n",
    "    v1 = x[:,4]*np.sin(x[:,0])\n",
    "    v2 = x[:,4]*np.sin(x[:,0]) + x[:,5]*np.sin(np.sum(x[:,:2], axis=1))\n",
    "    v3 = x[:,4]*np.sin(x[:,0]) + x[:,5]*np.sin(np.sum(x[:,:2], axis=1)) + x[:,6]*np.sin(np.sum(x[:,:3], axis=1))\n",
    "    v4 = x[:,4]*np.sin(x[:,0]) + x[:,5]*np.sin(np.sum(x[:,:2], axis=1)) + x[:,6]*np.sin(np.sum(x[:,:3], axis=1)) + x[:,7]*np.sin(np.sum(x[:,:4], axis=1))                                                                                                  \n",
    "                                                                                                                               \n",
    "    return (u1+u2+u3+u4)**2 + (v1+v2+v3+v4)**2"
   ]
  },
  {
   "cell_type": "markdown",
   "metadata": {},
   "source": [
    "Create a distribution object, generate samples and evaluate the function at the samples."
   ]
  },
  {
   "cell_type": "code",
   "execution_count": 3,
   "metadata": {},
   "outputs": [],
   "source": [
    "np.random.seed(1)\n",
    "\n",
    "dist_1 = Uniform(loc=0, scale=2*np.pi)    \n",
    "dist_2 = Uniform(loc=0, scale=1)\n",
    "\n",
    "marg = [dist_1]*4\n",
    "marg_1 = [dist_2]*4\n",
    "marg.extend(marg_1)\n",
    "\n",
    "joint = JointIndependent(marginals=marg)\n",
    "\n",
    "n_samples = 9000\n",
    "x = joint.rvs(n_samples)\n",
    "y = function(x)  "
   ]
  },
  {
   "cell_type": "markdown",
   "metadata": {},
   "source": [
    "Create an object from the PCE class."
   ]
  },
  {
   "cell_type": "code",
   "execution_count": 4,
   "metadata": {},
   "outputs": [],
   "source": [
    "max_degree = 6\n",
    "pce = PolyChaosExp(joint)\n",
    "construct_td_basis(pce, max_degree)"
   ]
  },
  {
   "cell_type": "markdown",
   "metadata": {},
   "source": [
    "Compute PCE coefficients using least squares regression."
   ]
  },
  {
   "cell_type": "code",
   "execution_count": 5,
   "metadata": {},
   "outputs": [],
   "source": [
    "fit_lstsq(pce, x, y)"
   ]
  },
  {
   "cell_type": "markdown",
   "metadata": {},
   "source": [
    "Compute PCE coefficients using Lasso regression."
   ]
  },
  {
   "cell_type": "code",
   "execution_count": 6,
   "metadata": {},
   "outputs": [],
   "source": [
    "pce2 = PolyChaosExp(joint)\n",
    "construct_td_basis(pce2, max_degree)\n",
    "fit_lasso(pce2, x, y)"
   ]
  },
  {
   "cell_type": "markdown",
   "metadata": {},
   "source": [
    "Compute PCE coefficients using Ridge regression."
   ]
  },
  {
   "cell_type": "code",
   "execution_count": 7,
   "metadata": {},
   "outputs": [],
   "source": [
    "pce3 = PolyChaosExp(joint)\n",
    "construct_td_basis(pce3, max_degree)\n",
    "fit_ridge(pce3, x, y)"
   ]
  },
  {
   "cell_type": "markdown",
   "metadata": {},
   "source": [
    "### Error Estimation"
   ]
  },
  {
   "cell_type": "markdown",
   "metadata": {},
   "source": [
    "Validation error."
   ]
  },
  {
   "cell_type": "code",
   "execution_count": 8,
   "metadata": {},
   "outputs": [
    {
     "name": "stdout",
     "output_type": "stream",
     "text": [
      "Validation error, LSTSQ-PCE: 2.3288994508432164\n",
      "Validation error, LASSO-PCE: 2.8934315486061783\n",
      "Validation error, Ridge-PCE: 2.9107075083555993\n"
     ]
    }
   ],
   "source": [
    "n_samples = 500\n",
    "x_val = joint.rvs(n_samples)\n",
    "y_val = function(x_val)\n",
    "\n",
    "y_pce = pce.predict(x_val).flatten()\n",
    "y_pce2 = pce2.predict(x_val).flatten()\n",
    "y_pce3 = pce3.predict(x_val).flatten()\n",
    "\n",
    "error = np.sum(np.abs(y_pce - y_val)/np.abs(y_val))/n_samples\n",
    "error2 = np.sum(np.abs(y_pce2 - y_val)/np.abs(y_val))/n_samples\n",
    "error3 = np.sum(np.abs(y_pce3 - y_val)/np.abs(y_val))/n_samples\n",
    "\n",
    "print('Validation error, LSTSQ-PCE:', error)\n",
    "print('Validation error, LASSO-PCE:', error2)\n",
    "print('Validation error, Ridge-PCE:', error3)"
   ]
  },
  {
   "cell_type": "markdown",
   "metadata": {},
   "source": [
    "### Moment Estimation"
   ]
  },
  {
   "cell_type": "markdown",
   "metadata": {},
   "source": [
    "Returns mean and variance of the PCE surrogate."
   ]
  },
  {
   "cell_type": "code",
   "execution_count": 9,
   "metadata": {},
   "outputs": [
    {
     "name": "stdout",
     "output_type": "stream",
     "text": [
      "Moments from least squares regression : [9.98484797] [92.7136169]\n",
      "Moments from LASSO regression : [9.88068691] [89.01799072]\n",
      "Moments from Ridge regression : [9.87881959] [88.98082142]\n",
      "Moments from MC integration:  10.018975420299668 92.52696185659225\n"
     ]
    }
   ],
   "source": [
    "n_mc = 1000000\n",
    "x_mc = joint.rvs(n_mc)\n",
    "y_mc = function(x_mc)    \n",
    "mean_mc = np.mean(y_mc)\n",
    "var_mc = np.var(y_mc)\n",
    "\n",
    "print('Moments from least squares regression :', pce_mean(pce), pce_variance(pce))\n",
    "print('Moments from LASSO regression :', pce_mean(pce2), pce_variance(pce2))\n",
    "print('Moments from Ridge regression :', pce_mean(pce3), pce_variance(pce3))\n",
    "print('Moments from MC integration: ', mean_mc, var_mc)"
   ]
  },
  {
   "cell_type": "code",
   "execution_count": null,
   "metadata": {},
   "outputs": [],
   "source": []
  },
  {
   "cell_type": "code",
   "execution_count": null,
   "metadata": {},
   "outputs": [],
   "source": []
  }
 ],
 "metadata": {
  "kernelspec": {
   "display_name": "Python 3 (ipykernel)",
   "language": "python",
   "name": "python3"
  },
  "language_info": {
   "codemirror_mode": {
    "name": "ipython",
    "version": 3
   },
   "file_extension": ".py",
   "mimetype": "text/x-python",
   "name": "python",
   "nbconvert_exporter": "python",
   "pygments_lexer": "ipython3",
   "version": "3.9.6"
  }
 },
 "nbformat": 4,
 "nbformat_minor": 4
}
