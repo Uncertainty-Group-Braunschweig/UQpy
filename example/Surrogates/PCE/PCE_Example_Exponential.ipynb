{
 "cells": [
  {
   "cell_type": "markdown",
   "metadata": {},
   "source": [
    "### Polynomial Chaos Expansion example: Exponential function (3 random inputs, scalar output)"
   ]
  },
  {
   "cell_type": "markdown",
   "metadata": {},
   "source": [
    "Authors: Katiana Kontolati, Dimitrios Loukrezis \\\n",
    "Date: May 7, 2021"
   ]
  },
  {
   "cell_type": "markdown",
   "metadata": {},
   "source": [
    "In this example, PCE is used to generate a surrogate model for a given set of 3D data."
   ]
  },
  {
   "cell_type": "markdown",
   "metadata": {},
   "source": [
    "### Dette & Pepelyshev exponential function"
   ]
  },
  {
   "cell_type": "markdown",
   "metadata": {},
   "source": [
    "$$ f(x) = 100(\\exp{(-2/x_1^{1.75})} + \\exp{(-2/x_2^{1.5})} + \\exp{(-2/x_3^{1.25})})$$\n",
    "\n",
    "**Description:**  Dimensions: 3\n",
    "\n",
    "**Input Domain:**  This function is evaluated on the hypercube $x_i \\in [0,1]$ for all i = 1,2,3.\n",
    "\n",
    "**Reference:**  Dette, H., & Pepelyshev, A. (2010). Generalized Latin hypercube design for computer experiments. Technometrics, 52(4)."
   ]
  },
  {
   "cell_type": "markdown",
   "metadata": {},
   "source": [
    "Import necessary libraries."
   ]
  },
  {
   "cell_type": "code",
   "execution_count": 1,
   "metadata": {},
   "outputs": [],
   "source": [
    "import math\n",
    "import numpy as np\n",
    "import matplotlib.pyplot as plt\n",
    "from UQpy.distributions import Uniform, JointIndependent\n",
    "from UQpy.surrogates import *"
   ]
  },
  {
   "cell_type": "markdown",
   "metadata": {},
   "source": [
    "Define the function."
   ]
  },
  {
   "cell_type": "code",
   "execution_count": 2,
   "metadata": {},
   "outputs": [],
   "source": [
    "def function(x):\n",
    "    return 100*(np.exp(-2/(x[:,0]**1.75)) + np.exp(-2/(x[:,1]**1.5)) + np.exp(-2/(x[:,2]**1.25)))"
   ]
  },
  {
   "cell_type": "markdown",
   "metadata": {},
   "source": [
    "Define the input probability distributions."
   ]
  },
  {
   "cell_type": "code",
   "execution_count": 3,
   "metadata": {},
   "outputs": [],
   "source": [
    "# input distributions\n",
    "dist = Uniform(loc=0, scale=1)   \n",
    "marg = [dist]*3\n",
    "joint = JointIndependent(marginals=marg)"
   ]
  },
  {
   "cell_type": "markdown",
   "metadata": {},
   "source": [
    "Compute reference mean and variance values using Monte Carlo sampling."
   ]
  },
  {
   "cell_type": "code",
   "execution_count": 4,
   "metadata": {},
   "outputs": [],
   "source": [
    "# reference moments via Monte Carlo Sampling\n",
    "n_samples_mc = 1000000\n",
    "xx = joint.rvs(n_samples_mc)\n",
    "yy = function(xx)\n",
    "mean_ref = yy.mean()\n",
    "var_ref = yy.var()"
   ]
  },
  {
   "cell_type": "markdown",
   "metadata": {},
   "source": [
    "Create validation data sets, to be used later to estimate the accuracy of the PCE."
   ]
  },
  {
   "cell_type": "code",
   "execution_count": 5,
   "metadata": {},
   "outputs": [],
   "source": [
    "# validation data sets\n",
    "n_samples_val = 1000\n",
    "xx_val = joint.rvs(n_samples_val)\n",
    "yy_val = function(xx_val)"
   ]
  },
  {
   "cell_type": "markdown",
   "metadata": {},
   "source": [
    "Assess the PCE in terms of approximation and moment estimation accuracy, for increasing maximum polynomial degree."
   ]
  },
  {
   "cell_type": "code",
   "execution_count": 6,
   "metadata": {},
   "outputs": [
    {
     "name": "stdout",
     "output_type": "stream",
     "text": [
      " \n",
      "Total degree:  1\n",
      "Size of basis: 4\n",
      "Sampling coefficient:  5\n",
      "Training data:  20\n",
      "Validation error in the l2 norm: 123.30780968960352\n",
      "Relative error in the mean: 0.0693882207780489\n",
      "Relative error in the variance: 0.19125788302310678\n",
      " \n",
      "Total degree:  2\n",
      "Size of basis: 10\n",
      "Sampling coefficient:  5\n",
      "Training data:  50\n",
      "Validation error in the l2 norm: 31.86103914158594\n",
      "Relative error in the mean: 0.007732137552221861\n",
      "Relative error in the variance: 0.02573542192043649\n",
      " \n",
      "Total degree:  3\n",
      "Size of basis: 20\n",
      "Sampling coefficient:  5\n",
      "Training data:  100\n",
      "Validation error in the l2 norm: 10.621238065983139\n",
      "Relative error in the mean: 0.005768645222246693\n",
      "Relative error in the variance: 0.03267603281214824\n",
      " \n",
      "Total degree:  4\n",
      "Size of basis: 35\n",
      "Sampling coefficient:  5\n",
      "Training data:  175\n",
      "Validation error in the l2 norm: 6.139701252720042\n",
      "Relative error in the mean: 0.000714470521014327\n",
      "Relative error in the variance: 0.007100719488178569\n",
      " \n",
      "Total degree:  5\n",
      "Size of basis: 56\n",
      "Sampling coefficient:  5\n",
      "Training data:  280\n",
      "Validation error in the l2 norm: 1.9997063971022484\n",
      "Relative error in the mean: 2.3612108615524994e-05\n",
      "Relative error in the variance: 0.0011081590041656822\n",
      " \n",
      "Total degree:  6\n",
      "Size of basis: 84\n",
      "Sampling coefficient:  5\n",
      "Training data:  420\n",
      "Validation error in the l2 norm: 1.535821824982956\n",
      "Relative error in the mean: 0.0006417485828670507\n",
      "Relative error in the variance: 0.00036462628035258945\n",
      " \n",
      "Total degree:  7\n",
      "Size of basis: 120\n",
      "Sampling coefficient:  5\n",
      "Training data:  600\n",
      "Validation error in the l2 norm: 0.621969818582082\n",
      "Relative error in the mean: 0.0009447566584804508\n",
      "Relative error in the variance: 0.0026911827081837233\n",
      " \n",
      "Total degree:  8\n",
      "Size of basis: 165\n",
      "Sampling coefficient:  5\n",
      "Training data:  825\n",
      "Validation error in the l2 norm: 0.3534327825827493\n",
      "Relative error in the mean: 0.0008235534282351337\n",
      "Relative error in the variance: 0.00204077603313452\n",
      " \n",
      "Total degree:  9\n",
      "Size of basis: 220\n",
      "Sampling coefficient:  5\n",
      "Training data:  1100\n",
      "Validation error in the l2 norm: 0.1464752740843056\n",
      "Relative error in the mean: 0.0008720347203331744\n",
      "Relative error in the variance: 0.0019040803929546873\n"
     ]
    }
   ],
   "source": [
    "# construct PCE surrogate models\n",
    "l2_err = []\n",
    "mean_err = []\n",
    "var_err = []\n",
    "for max_degree in range(1,10):\n",
    "    print(' ')\n",
    "    \n",
    "    # PCE basis\n",
    "    print('Total degree: ', max_degree)\n",
    "    polynomial_basis = PolynomialBasis.create_total_degree_basis(joint, max_degree)\n",
    "    print('Size of basis:', polynomial_basis.polynomials_number)\n",
    "    \n",
    "    # generate training data\n",
    "    sampling_coeff = 5\n",
    "    print('Sampling coefficient: ', sampling_coeff)\n",
    "    np.random.seed(42)\n",
    "    n_samples = math.ceil(sampling_coeff*polynomial_basis.polynomials_number)\n",
    "    print('Training data: ', n_samples)\n",
    "    xx_train = joint.rvs(n_samples)\n",
    "    yy_train = function(xx_train)\n",
    "    \n",
    "    # fit model\n",
    "    least_squares = LeastSquareRegression()\n",
    "    pce_metamodel = PolynomialChaosExpansion(polynomial_basis=polynomial_basis, regression_method=least_squares)\n",
    "    pce_metamodel.fit(xx_train, yy_train)\n",
    "    \n",
    "    # validation errors\n",
    "    yy_val_pce = pce_metamodel.predict(xx_val)\n",
    "    errors = np.abs(yy_val - yy_val_pce.flatten())\n",
    "    error_l2 = np.linalg.norm(errors)\n",
    "    l2_err.append(error_l2)\n",
    "    print('Validation error in the l2 norm:', error_l2)\n",
    "    \n",
    "    # moment errors\n",
    "    pce_moments = pce_metamodel.get_moments()\n",
    "    mean_pce=pce_moments[0]\n",
    "    var_pce = pce_moments[1]\n",
    "    mean_err.append(np.abs((mean_pce - mean_ref)/mean_ref))\n",
    "    var_err.append(np.abs((var_pce - var_ref)/var_ref))\n",
    "    print('Relative error in the mean:', mean_err[-1])\n",
    "    print('Relative error in the variance:', var_err[-1])"
   ]
  },
  {
   "cell_type": "code",
   "execution_count": null,
   "metadata": {},
   "outputs": [],
   "source": []
  }
 ],
 "metadata": {
  "kernelspec": {
   "display_name": "Python 3 (ipykernel)",
   "language": "python",
   "name": "python3"
  },
  "language_info": {
   "codemirror_mode": {
    "name": "ipython",
    "version": 3
   },
   "file_extension": ".py",
   "mimetype": "text/x-python",
   "name": "python",
   "nbconvert_exporter": "python",
   "pygments_lexer": "ipython3",
   "version": "3.9.6"
  }
 },
 "nbformat": 4,
 "nbformat_minor": 4
}
