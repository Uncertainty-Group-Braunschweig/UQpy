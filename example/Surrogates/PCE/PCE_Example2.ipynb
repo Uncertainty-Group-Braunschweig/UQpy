{
 "cells": [
  {
   "cell_type": "markdown",
   "metadata": {},
   "source": [
    "## Polynomial Chaos Expansion Example 2"
   ]
  },
  {
   "cell_type": "markdown",
   "metadata": {},
   "source": [
    "Author: Katiana Kontolati \\\n",
    "Date: December 8, 2020"
   ]
  },
  {
   "cell_type": "markdown",
   "metadata": {},
   "source": [
    "In this example, PCE is used to generate a surrogate model for a given set of 2D data."
   ]
  },
  {
   "cell_type": "markdown",
   "metadata": {},
   "source": [
    "### Sphere function"
   ]
  },
  {
   "cell_type": "markdown",
   "metadata": {},
   "source": [
    "<img src=\"Example_2_function.png\" alt=\"Drawing\" style=\"width: 400px;\"/>\n",
    "\n",
    "$$ f(\\textbf{x}) = x_1^2 + x_2^2$$\n",
    "\n",
    "**Description:**  Dimensions: 2\n",
    "\n",
    "**Input Domain:**  This function is evaluated on the hypercube $x_i \\in [-5.12, 5.12]$ for all i = 1,2.\n",
    "\n",
    "**Global minimum:** $f(x^*)=0,$ at $x^* = (0,0)$.\n",
    "\n",
    "**Reference:**  Dixon, L. C. W., & Szego, G. P. (1978). The global optimization problem: an introduction. Towards global optimization, 2, 1-15."
   ]
  },
  {
   "cell_type": "markdown",
   "metadata": {},
   "source": [
    "Import necessary libraries."
   ]
  },
  {
   "cell_type": "code",
   "execution_count": null,
   "metadata": {},
   "outputs": [],
   "source": [
    "import numpy as np\n",
    "import matplotlib.pyplot as plt\n",
    "from mpl_toolkits.mplot3d import Axes3D\n",
    "from matplotlib import cm\n",
    "from matplotlib.ticker import LinearLocator, FormatStrFormatter\n",
    "from UQpy.surrogates import Polynomials, PolynomialChaosExpansion, LeastSquareRegression, RidgeRegression, \\\n",
    "    LassoRegression, MomentEstimation, ErrorEstimation\n",
    "from UQpy.distributions import Uniform, JointIndependent"
   ]
  },
  {
   "cell_type": "markdown",
   "metadata": {},
   "source": [
    "Define the function."
   ]
  },
  {
   "cell_type": "code",
   "execution_count": null,
   "metadata": {},
   "outputs": [],
   "source": [
    "def function(x, y):\n",
    "    return x ** 2 + y ** 2"
   ]
  },
  {
   "cell_type": "markdown",
   "metadata": {},
   "source": [
    "Create a distribution object, generate samples and evaluate the function at the samples."
   ]
  },
  {
   "cell_type": "code",
   "execution_count": null,
   "metadata": {},
   "outputs": [],
   "source": [
    "np.random.seed(1)\n",
    "\n",
    "dist_1 = Uniform(loc=-5.12, scale=10.24)\n",
    "dist_2 = Uniform(loc=-5.12, scale=10.24)\n",
    "\n",
    "marg = [dist_1, dist_2]\n",
    "joint = JointIndependent(marginals=marg)\n",
    "\n",
    "n_samples = 100\n",
    "x = joint.rvs(n_samples)\n",
    "y = function(x[:, 0], x[:, 1]) "
   ]
  },
  {
   "cell_type": "markdown",
   "metadata": {},
   "source": [
    "Visualize the 2D function."
   ]
  },
  {
   "cell_type": "code",
   "execution_count": null,
   "metadata": {},
   "outputs": [],
   "source": [
    "xmin, xmax = -6, 6\n",
    "ymin, ymax = -6, 6\n",
    "X1 = np.linspace(xmin, xmax, 50)\n",
    "X2 = np.linspace(ymin, ymax, 50)\n",
    "X1_, X2_ = np.meshgrid(X1, X2)  # grid of points\n",
    "f = function(X1_, X2_)\n",
    "\n",
    "fig = plt.figure(figsize=(10, 6))\n",
    "ax = fig.gca(projection='3d')\n",
    "surf = ax.plot_surface(X1_, X2_, f, rstride=1, cstride=1, cmap='gnuplot2', linewidth=0, antialiased=False)\n",
    "ax.set_title('True function')\n",
    "ax.set_xlabel('$x_1$', fontsize=15)\n",
    "ax.set_ylabel('$x_2$', fontsize=15)\n",
    "ax.zaxis.set_major_locator(LinearLocator(10))\n",
    "ax.zaxis.set_major_formatter(FormatStrFormatter('%.02f'))\n",
    "ax.view_init(20, 140)\n",
    "fig.colorbar(surf, shrink=0.5, aspect=7)\n",
    "\n",
    "plt.show()"
   ]
  },
  {
   "cell_type": "markdown",
   "metadata": {},
   "source": [
    "Visualize training data."
   ]
  },
  {
   "cell_type": "code",
   "execution_count": null,
   "metadata": {},
   "outputs": [],
   "source": [
    "fig = plt.figure(figsize=(10, 6))\n",
    "ax = fig.gca(projection='3d')\n",
    "ax.scatter(x[:, 0], x[:, 1], y, s=20, c='r')\n",
    "\n",
    "ax.set_title('Training data')\n",
    "ax.zaxis.set_major_locator(LinearLocator(10))\n",
    "ax.zaxis.set_major_formatter(FormatStrFormatter('%.02f'))\n",
    "ax.view_init(20, 140)\n",
    "ax.set_xlabel('$x_1$', fontsize=15)\n",
    "ax.set_ylabel('$x_2$', fontsize=15)\n",
    "plt.show()"
   ]
  },
  {
   "cell_type": "markdown",
   "metadata": {},
   "source": [
    "Create an object from the PCE class."
   ]
  },
  {
   "cell_type": "code",
   "execution_count": null,
   "metadata": {},
   "outputs": [],
   "source": [
    "max_degree = 3\n",
    "polys = Polynomials(distributions=joint, degree=max_degree)"
   ]
  },
  {
   "cell_type": "markdown",
   "metadata": {},
   "source": [
    "Compute PCE coefficients using least squares regression."
   ]
  },
  {
   "cell_type": "code",
   "execution_count": null,
   "metadata": {},
   "outputs": [],
   "source": [
    "lstsq = LeastSquareRegression(polynomials=polys)\n",
    "pce = PolynomialChaosExpansion(regression_method=lstsq)\n",
    "pce.fit(x, y)"
   ]
  },
  {
   "cell_type": "markdown",
   "metadata": {},
   "source": [
    "Compute PCE coefficients using LASSO."
   ]
  },
  {
   "cell_type": "code",
   "execution_count": null,
   "metadata": {},
   "outputs": [],
   "source": [
    "lasso = LassoRegression(polynomials=polys, learning_rate=0.1, iterations=1000, penalty=0.5)\n",
    "pce2 = PolynomialChaosExpansion(regression_method=lasso)\n",
    "pce2.fit(x, y)"
   ]
  },
  {
   "cell_type": "markdown",
   "metadata": {},
   "source": [
    "Compute PCE coefficients with Ridge regression."
   ]
  },
  {
   "cell_type": "code",
   "execution_count": null,
   "metadata": {},
   "outputs": [],
   "source": [
    "ridge = RidgeRegression(polynomials=polys, learning_rate=0.01, iterations=1000, penalty=0.5)\n",
    "pce3 = PolynomialChaosExpansion(regression_method=ridge)\n",
    "pce3.fit(x, y)"
   ]
  },
  {
   "cell_type": "markdown",
   "metadata": {},
   "source": [
    "PCE surrogate is used to predict the behavior of the function at new samples."
   ]
  },
  {
   "cell_type": "code",
   "execution_count": null,
   "metadata": {},
   "outputs": [],
   "source": [
    "n_test_samples = 10000\n",
    "x_test = joint.rvs(n_test_samples)\n",
    "y_test = pce.predict(x_test)"
   ]
  },
  {
   "cell_type": "markdown",
   "metadata": {},
   "source": [
    "Plot PCE prediction."
   ]
  },
  {
   "cell_type": "code",
   "execution_count": null,
   "metadata": {},
   "outputs": [],
   "source": [
    "fig = plt.figure(figsize=(10, 6))\n",
    "ax = fig.gca(projection='3d')\n",
    "ax.scatter(x_test[:, 0], x_test[:, 1], y_test, s=1)\n",
    "\n",
    "ax.set_title('PCE predictor')\n",
    "ax.zaxis.set_major_locator(LinearLocator(10))\n",
    "ax.zaxis.set_major_formatter(FormatStrFormatter('%.02f'))\n",
    "ax.view_init(20, 140)\n",
    "ax.set_xlim(-6, 6)\n",
    "ax.set_ylim(-6, 6)\n",
    "ax.set_xlabel('$x_1$', fontsize=15)\n",
    "ax.set_ylabel('$x_2$', fontsize=15)\n",
    "plt.show()"
   ]
  },
  {
   "cell_type": "markdown",
   "metadata": {},
   "source": [
    "### Error Estimation"
   ]
  },
  {
   "cell_type": "markdown",
   "metadata": {},
   "source": [
    "Validation error."
   ]
  },
  {
   "cell_type": "code",
   "execution_count": null,
   "metadata": {},
   "outputs": [],
   "source": [
    "n_samples = 150\n",
    "x_val = joint.rvs(n_samples)\n",
    "y_val = function(x_val[:, 0], x_val[:, 1])\n",
    "\n",
    "error = ErrorEstimation(pce_surrogate=pce)\n",
    "error2 = ErrorEstimation(pce_surrogate=pce2)\n",
    "error3 = ErrorEstimation(pce_surrogate=pce3)\n",
    "\n",
    "print('Error from least squares regression is: ', error.validation(x_val, y_val))\n",
    "print('Error from LASSO regression is: ', error2.validation(x_val, y_val))\n",
    "print('Error from Ridge regression is: ', error3.validation(x_val, y_val))"
   ]
  },
  {
   "cell_type": "markdown",
   "metadata": {},
   "source": [
    "### Moment Estimation"
   ]
  },
  {
   "cell_type": "markdown",
   "metadata": {},
   "source": [
    "Returns mean and variance of the PCE surrogate."
   ]
  },
  {
   "cell_type": "code",
   "execution_count": null,
   "metadata": {},
   "outputs": [],
   "source": [
    "n_mc = 1000000\n",
    "x_mc = joint.rvs(n_mc)\n",
    "y_mc = function(x_mc[:, 0], x_mc[:, 1])\n",
    "mu = np.mean(y_mc)\n",
    "\n",
    "print('Moments from least squares regression :', MomentEstimation(pce_surrogate=pce).get())\n",
    "print('Moments from LASSO regression :', MomentEstimation(pce_surrogate=pce2).get())\n",
    "print('Moments from Ridge regression :', MomentEstimation(pce_surrogate=pce3).get())\n",
    "print('Moments from Monte Carlo integration: ',\n",
    "      (round((1 / n_mc) * np.sum(y_mc), 6), round((1 / n_mc) * np.sum((y_mc - mu) ** 2), 6)))"
   ]
  },
  {
   "cell_type": "code",
   "execution_count": null,
   "metadata": {},
   "outputs": [],
   "source": []
  }
 ],
 "metadata": {
  "kernelspec": {
   "display_name": "Python 3 (ipykernel)",
   "language": "python",
   "name": "python3"
  },
  "language_info": {
   "codemirror_mode": {
    "name": "ipython",
    "version": 3
   },
   "file_extension": ".py",
   "mimetype": "text/x-python",
   "name": "python",
   "nbconvert_exporter": "python",
   "pygments_lexer": "ipython3",
   "version": "3.9.6"
  }
 },
 "nbformat": 4,
 "nbformat_minor": 4
}
