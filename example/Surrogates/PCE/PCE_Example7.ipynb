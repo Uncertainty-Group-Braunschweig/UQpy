{
 "cells": [
  {
   "cell_type": "markdown",
   "metadata": {},
   "source": [
    "## Polynomial Chaos Expansion Example 7"
   ]
  },
  {
   "cell_type": "markdown",
   "metadata": {},
   "source": [
    "Authors: Dimitris Loukrezis, Katiana Kontolati \\\n",
    "Date: January 20, 2021"
   ]
  },
  {
   "cell_type": "markdown",
   "metadata": {},
   "source": [
    "In this example, PCE is used to generate a surrogate model for a given set of 2D data for a numerical model with multi-dimensional outputs."
   ]
  },
  {
   "cell_type": "markdown",
   "metadata": {},
   "source": [
    "Import necessary libraries."
   ]
  },
  {
   "cell_type": "code",
   "execution_count": null,
   "metadata": {},
   "outputs": [],
   "source": [
    "import numpy as np\n",
    "import matplotlib.pyplot as plt\n",
    "import math\n",
    "from UQpy.distributions import Normal, JointIndependent\n",
    "from UQpy.surrogates import Polynomials, PolynomialChaosExpansion, LeastSquareRegression, LassoRegression, \\\n",
    "    RidgeRegression, ErrorEstimation, MomentEstimation"
   ]
  },
  {
   "cell_type": "markdown",
   "metadata": {},
   "source": [
    "The analytical function below describes the eigenvalues of the 2D Helmholtz equation on a square."
   ]
  },
  {
   "cell_type": "code",
   "execution_count": null,
   "metadata": {},
   "outputs": [],
   "source": [
    "def analytical_eigenvalues_2d(Ne, lx, ly):\n",
    "    \"\"\"\n",
    "    Computes the first Ne eigenvalues of a rectangular waveguide with\n",
    "    dimensions lx, ly\n",
    "\n",
    "    Parameters\n",
    "    ----------\n",
    "    Ne : integer\n",
    "         number of eigenvalues.\n",
    "    lx : float\n",
    "         length in x direction.\n",
    "    ly : float\n",
    "         length in y direction.\n",
    "\n",
    "    Returns\n",
    "    -------\n",
    "    ev : numpy 1d array\n",
    "         the Ne eigenvalues\n",
    "    \"\"\"\n",
    "    ev = [(m * np.pi / lx) ** 2 + (n * np.pi / ly) ** 2 for m in range(1, Ne + 1)\n",
    "          for n in range(1, Ne + 1)]\n",
    "    ev = np.array(ev)\n",
    "\n",
    "    ### Uncertainty changes the sorting order of the eigenvalues.\n",
    "    ### The resulting value \"jumps\" cannot be captured by a PCE.\n",
    "    # sort eigenvalues and take the first Ne ones\n",
    "    # idx = np.argsort(ev)[:Ne]\n",
    "    # ev  = ev[idx]\n",
    "\n",
    "    return ev[:Ne]"
   ]
  },
  {
   "cell_type": "markdown",
   "metadata": {},
   "source": [
    "Create a distribution object."
   ]
  },
  {
   "cell_type": "code",
   "execution_count": null,
   "metadata": {},
   "outputs": [],
   "source": [
    "pdf_lx = Normal(loc=2, scale=0.02)\n",
    "pdf_ly = Normal(loc=1, scale=0.01)\n",
    "margs = [pdf_lx, pdf_ly]\n",
    "joint = JointIndependent(marginals=margs)"
   ]
  },
  {
   "cell_type": "markdown",
   "metadata": {},
   "source": [
    "Define the number of input dimensions and choose the number of output dimensions (number of eigenvalues)."
   ]
  },
  {
   "cell_type": "code",
   "execution_count": null,
   "metadata": {},
   "outputs": [],
   "source": [
    "dim_in = 2\n",
    "dim_out = 10"
   ]
  },
  {
   "cell_type": "markdown",
   "metadata": {},
   "source": [
    "Construct PCE models by varying the maximum degree of polynomials (and therefore the number of polynomial basis) and compute the validation error for all resulting models."
   ]
  },
  {
   "cell_type": "code",
   "execution_count": null,
   "metadata": {
    "scrolled": true
   },
   "outputs": [],
   "source": [
    "errors = []\n",
    "basis = []\n",
    "pce_models = []\n",
    "\n",
    "for max_degree in range(1, 6):\n",
    "    print('Total degree: ', max_degree)\n",
    "\n",
    "    # Polynomial basis\n",
    "    polys = Polynomials(distributions=joint, degree=max_degree)\n",
    "    n_basis = math.factorial(max_degree + dim_in) / \\\n",
    "              (math.factorial(max_degree) * math.factorial(dim_in))\n",
    "    basis.append(int(n_basis))\n",
    "    print('Basis terms: ', int(n_basis))\n",
    "\n",
    "    # Regression method\n",
    "    regression_method = LassoRegression(polynomials=polys, learning_rate=0.01, iterations=50000, penalty=0.0)\n",
    "\n",
    "    pce = PolynomialChaosExpansion(regression_method=regression_method)\n",
    "    pce_models.append(pce)\n",
    "\n",
    "    # Training data\n",
    "    sampling_coeff = 4\n",
    "    print('Sampling coefficient: ', sampling_coeff)\n",
    "\n",
    "    np.random.seed(42)\n",
    "    n_samples = math.ceil(sampling_coeff * n_basis)\n",
    "    print('Training data: ', n_samples)\n",
    "    xx = joint.rvs(n_samples)\n",
    "    yy = np.array([analytical_eigenvalues_2d(dim_out, x[0], x[1]) for x in xx])\n",
    "\n",
    "    # Design matrix / conditioning\n",
    "    D = polys.evaluate(xx)\n",
    "    cond_D = np.linalg.cond(D)\n",
    "    print('Condition number: ', cond_D)\n",
    "\n",
    "    # Fit model\n",
    "    pce.fit(xx, yy)\n",
    "\n",
    "    # Coefficients\n",
    "    # print('PCE coefficients: ', pce.C)\n",
    "\n",
    "    # Validation errors\n",
    "    np.random.seed(999)\n",
    "    n_samples = 1000\n",
    "    x_val = joint.rvs(n_samples)\n",
    "    y_val = np.array([analytical_eigenvalues_2d(dim_out, x[0], x[1]) for x in x_val])\n",
    "    y_val_pce = pce.predict(x_val)\n",
    "\n",
    "    error_val = ErrorEstimation(pce_surrogate=pce).validation(x_val, y_val)\n",
    "    errors.append(error_val)\n",
    "    print('Validation error: ', error_val)\n",
    "    print('')"
   ]
  },
  {
   "cell_type": "markdown",
   "metadata": {},
   "source": [
    "Plot errors."
   ]
  },
  {
   "cell_type": "code",
   "execution_count": null,
   "metadata": {},
   "outputs": [],
   "source": [
    "errors = np.array(errors)\n",
    "plt.figure(1, figsize=(9,6))\n",
    "for i in range(np.shape(errors)[0]):\n",
    "    plt.semilogy(np.linspace(1, dim_out, dim_out), errors[i], '--o', label='basis: {}'.format(basis[i]))\n",
    "plt.legend()\n",
    "plt.show()"
   ]
  },
  {
   "cell_type": "markdown",
   "metadata": {},
   "source": [
    "Moment estimation (directly estimated from the PCE model of max_degree = 2)."
   ]
  },
  {
   "cell_type": "code",
   "execution_count": null,
   "metadata": {},
   "outputs": [],
   "source": [
    "print('First moments estimation from PCE :', MomentEstimation(pce_surrogate=pce_models[0]).get()[0])\n",
    "print('')\n",
    "print('Second moments estimation from PCE :', MomentEstimation(pce_surrogate=pce_models[0]).get()[1])"
   ]
  },
  {
   "cell_type": "markdown",
   "metadata": {},
   "source": [
    "Moment estimation via Monte Carlo integration."
   ]
  },
  {
   "cell_type": "code",
   "execution_count": null,
   "metadata": {},
   "outputs": [],
   "source": [
    "n_mc = 100000\n",
    "x_mc = joint.rvs(n_mc)\n",
    "y_mc = np.array([analytical_eigenvalues_2d(dim_out, x[0], x[1]) for x in x_mc])\n",
    "mu = np.mean(y_mc, axis=0)\n",
    "moments = (\n",
    "np.round((1 / n_mc) * np.sum(y_mc, axis=0), 4), np.round((1 / n_mc) * np.sum((y_mc - mu) ** 2, axis=0), 4))\n",
    "print('First moments from Monte Carlo integration: ', moments[0])\n",
    "print('')\n",
    "print('Second moments from Monte Carlo integration: ', moments[1])"
   ]
  }
 ],
 "metadata": {
  "kernelspec": {
   "display_name": "Python 3 (ipykernel)",
   "language": "python",
   "name": "python3"
  },
  "language_info": {
   "codemirror_mode": {
    "name": "ipython",
    "version": 3
   },
   "file_extension": ".py",
   "mimetype": "text/x-python",
   "name": "python",
   "nbconvert_exporter": "python",
   "pygments_lexer": "ipython3",
   "version": "3.9.6"
  }
 },
 "nbformat": 4,
 "nbformat_minor": 4
}
