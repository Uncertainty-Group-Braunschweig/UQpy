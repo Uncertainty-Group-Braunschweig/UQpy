{
 "cells": [
  {
   "cell_type": "markdown",
   "metadata": {},
   "source": [
    "### Polynomial Chaos Expansion example: Oakley Function  (1 random input, scalar output)"
   ]
  },
  {
   "cell_type": "markdown",
   "metadata": {},
   "source": [
    "Authors: Katiana Kontolati, Dimitrios Loukrezis \\\n",
    "Date: May 6, 2021"
   ]
  },
  {
   "cell_type": "markdown",
   "metadata": {},
   "source": [
    "In this example, PCE is used to generate a surrogate model of a sinusoidal function with a single random input and a scalar output."
   ]
  },
  {
   "cell_type": "code",
   "execution_count": 1,
   "metadata": {},
   "outputs": [
    {
     "name": "stderr",
     "output_type": "stream",
     "text": [
      "The selected optimizer method does not support bounds and thus will be ignored.\n",
      "The selected optimizer method does not support bounds and thus will be ignored.\n"
     ]
    }
   ],
   "source": [
    "import numpy as np\n",
    "import matplotlib.pyplot as plt\n",
    "from UQpy.distributions import Normal\n",
    "from UQpy.surrogates import *\n"
   ]
  },
  {
   "cell_type": "markdown",
   "metadata": {},
   "source": [
    "Define the sinusoidal function to be approximated.\n",
    "\n",
    "Reference: Oakley, J. E., & O'Hagan, A. (2004). Probabilistic sensitivity analysis of complex models: a Bayesian approach. Journal of the Royal Statistical Society: Series B (Statistical Methodology), 66(3), 751-769."
   ]
  },
  {
   "cell_type": "code",
   "execution_count": 2,
   "metadata": {},
   "outputs": [],
   "source": [
    "def oakley_function(x):                                \n",
    "    return 5 + x + np.cos(x)"
   ]
  },
  {
   "cell_type": "markdown",
   "metadata": {},
   "source": [
    "Create a distribution object, generate samples and evaluate the function at the samples."
   ]
  },
  {
   "cell_type": "code",
   "execution_count": 3,
   "metadata": {},
   "outputs": [],
   "source": [
    "np.random.seed(1)\n",
    "\n",
    "dist = Normal(loc=0, scale=2)   \n",
    "n_samples = 100         \n",
    "x = dist.rvs(n_samples)  \n",
    "y = oakley_function(x)  "
   ]
  },
  {
   "cell_type": "markdown",
   "metadata": {},
   "source": [
    "Create an object from the PCE class, construct a total-degree polynomial basis given a maximum polynomial degree, and compute the PCE coefficients using least squares regression."
   ]
  },
  {
   "cell_type": "code",
   "execution_count": 4,
   "metadata": {},
   "outputs": [
    {
     "ename": "TypeError",
     "evalue": "only integer scalar arrays can be converted to a scalar index",
     "output_type": "error",
     "traceback": [
      "\u001b[0;31m---------------------------------------------------------------------------\u001b[0m",
      "\u001b[0;31mTypeError\u001b[0m                                 Traceback (most recent call last)",
      "\u001b[0;32m/var/folders/t5/4jtc8k1902j5q91znr0l4z5r0000gn/T/ipykernel_45525/4001016837.py\u001b[0m in \u001b[0;36m<module>\u001b[0;34m\u001b[0m\n\u001b[1;32m      2\u001b[0m \u001b[0mpce_lstsq\u001b[0m \u001b[0;34m=\u001b[0m \u001b[0mPolyChaosExp\u001b[0m\u001b[0;34m(\u001b[0m\u001b[0mdist\u001b[0m\u001b[0;34m)\u001b[0m\u001b[0;34m\u001b[0m\u001b[0;34m\u001b[0m\u001b[0m\n\u001b[1;32m      3\u001b[0m \u001b[0mconstruct_td_basis\u001b[0m\u001b[0;34m(\u001b[0m\u001b[0mpce_lstsq\u001b[0m\u001b[0;34m,\u001b[0m \u001b[0mmax_degree\u001b[0m\u001b[0;34m)\u001b[0m\u001b[0;34m\u001b[0m\u001b[0;34m\u001b[0m\u001b[0m\n\u001b[0;32m----> 4\u001b[0;31m \u001b[0mfit_lstsq\u001b[0m\u001b[0;34m(\u001b[0m\u001b[0mpce_lstsq\u001b[0m\u001b[0;34m,\u001b[0m \u001b[0mx\u001b[0m\u001b[0;34m,\u001b[0m \u001b[0my\u001b[0m\u001b[0;34m)\u001b[0m\u001b[0;34m\u001b[0m\u001b[0;34m\u001b[0m\u001b[0m\n\u001b[0m",
      "\u001b[0;32m~/PycharmProjects/dimtsap/UQpy/src/UQpy/surrogates/polynomial_chaos/CoefficientFit.py\u001b[0m in \u001b[0;36mfit_lstsq\u001b[0;34m(pce, sample_in, sample_out)\u001b[0m\n\u001b[1;32m     26\u001b[0m     \u001b[0mpce\u001b[0m\u001b[0;34m.\u001b[0m\u001b[0mexp_design_out\u001b[0m \u001b[0;34m=\u001b[0m \u001b[0msample_out\u001b[0m\u001b[0;34m\u001b[0m\u001b[0;34m\u001b[0m\u001b[0m\n\u001b[1;32m     27\u001b[0m     \u001b[0;31m# compute and update design matrix\u001b[0m\u001b[0;34m\u001b[0m\u001b[0;34m\u001b[0m\u001b[0;34m\u001b[0m\u001b[0m\n\u001b[0;32m---> 28\u001b[0;31m     \u001b[0mD\u001b[0m \u001b[0;34m=\u001b[0m \u001b[0mpce\u001b[0m\u001b[0;34m.\u001b[0m\u001b[0meval_basis\u001b[0m\u001b[0;34m(\u001b[0m\u001b[0msample_in\u001b[0m\u001b[0;34m)\u001b[0m\u001b[0;34m\u001b[0m\u001b[0;34m\u001b[0m\u001b[0m\n\u001b[0m\u001b[1;32m     29\u001b[0m     \u001b[0mpce\u001b[0m\u001b[0;34m.\u001b[0m\u001b[0mdesign_matrix\u001b[0m \u001b[0;34m=\u001b[0m \u001b[0mD\u001b[0m\u001b[0;34m\u001b[0m\u001b[0;34m\u001b[0m\u001b[0m\n\u001b[1;32m     30\u001b[0m     \u001b[0;31m# fit coefficients\u001b[0m\u001b[0;34m\u001b[0m\u001b[0;34m\u001b[0m\u001b[0;34m\u001b[0m\u001b[0m\n",
      "\u001b[0;32m~/PycharmProjects/dimtsap/UQpy/src/UQpy/surrogates/polynomial_chaos/PCE.py\u001b[0m in \u001b[0;36meval_basis\u001b[0;34m(self, sample_in)\u001b[0m\n\u001b[1;32m    115\u001b[0m         \u001b[0meval_matrix\u001b[0m \u001b[0;34m=\u001b[0m \u001b[0mnp\u001b[0m\u001b[0;34m.\u001b[0m\u001b[0mempty\u001b[0m\u001b[0;34m(\u001b[0m\u001b[0;34m[\u001b[0m\u001b[0mn_samples\u001b[0m\u001b[0;34m,\u001b[0m \u001b[0mself\u001b[0m\u001b[0;34m.\u001b[0m\u001b[0mn_polys\u001b[0m\u001b[0;34m]\u001b[0m\u001b[0;34m)\u001b[0m\u001b[0;34m\u001b[0m\u001b[0;34m\u001b[0m\u001b[0m\n\u001b[1;32m    116\u001b[0m         \u001b[0;32mfor\u001b[0m \u001b[0mii\u001b[0m \u001b[0;32min\u001b[0m \u001b[0mrange\u001b[0m\u001b[0;34m(\u001b[0m\u001b[0mself\u001b[0m\u001b[0;34m.\u001b[0m\u001b[0mn_polys\u001b[0m\u001b[0;34m)\u001b[0m\u001b[0;34m:\u001b[0m\u001b[0;34m\u001b[0m\u001b[0;34m\u001b[0m\u001b[0m\n\u001b[0;32m--> 117\u001b[0;31m             \u001b[0meval_matrix\u001b[0m\u001b[0;34m[\u001b[0m\u001b[0;34m:\u001b[0m\u001b[0;34m,\u001b[0m \u001b[0mii\u001b[0m\u001b[0;34m]\u001b[0m \u001b[0;34m=\u001b[0m \u001b[0mself\u001b[0m\u001b[0;34m.\u001b[0m\u001b[0mpoly_basis\u001b[0m\u001b[0;34m[\u001b[0m\u001b[0mii\u001b[0m\u001b[0;34m]\u001b[0m\u001b[0;34m.\u001b[0m\u001b[0mevaluate\u001b[0m\u001b[0;34m(\u001b[0m\u001b[0msample_in\u001b[0m\u001b[0;34m)\u001b[0m\u001b[0;34m\u001b[0m\u001b[0;34m\u001b[0m\u001b[0m\n\u001b[0m\u001b[1;32m    118\u001b[0m \u001b[0;34m\u001b[0m\u001b[0m\n\u001b[1;32m    119\u001b[0m         \u001b[0;32mreturn\u001b[0m \u001b[0meval_matrix\u001b[0m\u001b[0;34m\u001b[0m\u001b[0;34m\u001b[0m\u001b[0m\n",
      "\u001b[0;32m~/PycharmProjects/dimtsap/UQpy/src/UQpy/surrogates/polynomial_chaos/ChaosPolynomials.py\u001b[0m in \u001b[0;36mevaluate\u001b[0;34m(self, eval_data)\u001b[0m\n\u001b[1;32m    148\u001b[0m             \u001b[0mevals\u001b[0m \u001b[0;34m=\u001b[0m \u001b[0mlegendre_eval\u001b[0m\u001b[0;34m(\u001b[0m\u001b[0meval_data\u001b[0m\u001b[0;34m,\u001b[0m \u001b[0mself\u001b[0m\u001b[0;34m.\u001b[0m\u001b[0morder\u001b[0m\u001b[0;34m,\u001b[0m \u001b[0mself\u001b[0m\u001b[0;34m.\u001b[0m\u001b[0mdist\u001b[0m\u001b[0;34m)\u001b[0m\u001b[0;34m\u001b[0m\u001b[0;34m\u001b[0m\u001b[0m\n\u001b[1;32m    149\u001b[0m         \u001b[0;32melif\u001b[0m \u001b[0mself\u001b[0m\u001b[0;34m.\u001b[0m\u001b[0mdist_type\u001b[0m \u001b[0;34m==\u001b[0m \u001b[0;34m'Normal'\u001b[0m\u001b[0;34m:\u001b[0m\u001b[0;34m\u001b[0m\u001b[0;34m\u001b[0m\u001b[0m\n\u001b[0;32m--> 150\u001b[0;31m             \u001b[0mevals\u001b[0m \u001b[0;34m=\u001b[0m  \u001b[0mhermite_eval\u001b[0m\u001b[0;34m(\u001b[0m\u001b[0meval_data\u001b[0m\u001b[0;34m,\u001b[0m \u001b[0mself\u001b[0m\u001b[0;34m.\u001b[0m\u001b[0morder\u001b[0m\u001b[0;34m,\u001b[0m \u001b[0mself\u001b[0m\u001b[0;34m.\u001b[0m\u001b[0mdist\u001b[0m\u001b[0;34m)\u001b[0m\u001b[0;34m\u001b[0m\u001b[0;34m\u001b[0m\u001b[0m\n\u001b[0m\u001b[1;32m    151\u001b[0m         \u001b[0;32melse\u001b[0m\u001b[0;34m:\u001b[0m\u001b[0;34m\u001b[0m\u001b[0;34m\u001b[0m\u001b[0m\n\u001b[1;32m    152\u001b[0m             \u001b[0;32mraise\u001b[0m \u001b[0mValueError\u001b[0m\u001b[0;34m(\u001b[0m\u001b[0;34m'Distribution not supported!'\u001b[0m\u001b[0;34m)\u001b[0m\u001b[0;34m\u001b[0m\u001b[0;34m\u001b[0m\u001b[0m\n",
      "\u001b[0;32m~/PycharmProjects/dimtsap/UQpy/src/UQpy/surrogates/polynomial_chaos/ChaosPolynomials.py\u001b[0m in \u001b[0;36mhermite_eval\u001b[0;34m(x, k, n_dist)\u001b[0m\n\u001b[1;32m     38\u001b[0m \u001b[0;34m\u001b[0m\u001b[0m\n\u001b[1;32m     39\u001b[0m     \u001b[0;31m# normalization constant\u001b[0m\u001b[0;34m\u001b[0m\u001b[0;34m\u001b[0m\u001b[0;34m\u001b[0m\u001b[0m\n\u001b[0;32m---> 40\u001b[0;31m     \u001b[0mst_herm_norm\u001b[0m \u001b[0;34m=\u001b[0m \u001b[0mnp\u001b[0m\u001b[0;34m.\u001b[0m\u001b[0msqrt\u001b[0m\u001b[0;34m(\u001b[0m\u001b[0mmath\u001b[0m\u001b[0;34m.\u001b[0m\u001b[0mfactorial\u001b[0m\u001b[0;34m(\u001b[0m\u001b[0mk\u001b[0m\u001b[0;34m)\u001b[0m \u001b[0;34m)\u001b[0m\u001b[0;34m\u001b[0m\u001b[0;34m\u001b[0m\u001b[0m\n\u001b[0m\u001b[1;32m     41\u001b[0m \u001b[0;34m\u001b[0m\u001b[0m\n\u001b[1;32m     42\u001b[0m     \u001b[0mh\u001b[0m \u001b[0;34m=\u001b[0m \u001b[0mh\u001b[0m\u001b[0;34m/\u001b[0m\u001b[0mst_herm_norm\u001b[0m\u001b[0;34m\u001b[0m\u001b[0;34m\u001b[0m\u001b[0m\n",
      "\u001b[0;31mTypeError\u001b[0m: only integer scalar arrays can be converted to a scalar index"
     ]
    }
   ],
   "source": [
    "max_degree = 8\n",
    "pce_lstsq = PolyChaosExp(dist)\n",
    "construct_td_basis(pce_lstsq, max_degree)\n",
    "fit_lstsq(pce_lstsq, x, y)"
   ]
  },
  {
   "cell_type": "markdown",
   "metadata": {},
   "source": [
    "Create an object from the PCE class, construct a total-degree polynomial basis given a maximum polynomial degree, and compute the PCE coefficients using LASSO regression."
   ]
  },
  {
   "cell_type": "code",
   "execution_count": null,
   "metadata": {},
   "outputs": [],
   "source": [
    "pce_lasso = PolyChaosExp(dist)\n",
    "construct_td_basis(pce_lasso, max_degree)\n",
    "fit_lasso(pce_lasso, x, y)"
   ]
  },
  {
   "cell_type": "markdown",
   "metadata": {},
   "source": [
    "Create an object from the PCE class, construct a total-degree polynomial basis given a maximum polynomial degree, and compute the PCE coefficients using ridge regression."
   ]
  },
  {
   "cell_type": "code",
   "execution_count": null,
   "metadata": {},
   "outputs": [],
   "source": [
    "pce_ridge = PolyChaosExp(dist)\n",
    "construct_td_basis(pce_ridge, max_degree)\n",
    "fit_ridge(pce_ridge, x, y)"
   ]
  },
  {
   "cell_type": "markdown",
   "metadata": {},
   "source": [
    "PCE surrogate is used to predict the behavior of the function at new samples."
   ]
  },
  {
   "cell_type": "code",
   "execution_count": null,
   "metadata": {},
   "outputs": [],
   "source": [
    "x_test = dist.rvs(100)\n",
    "x_test.sort(axis=0) \n",
    "\n",
    "y_test_lstsq = pce_lstsq.predict(x_test)\n",
    "y_test_lasso = pce_lasso.predict(x_test)\n",
    "y_test_ridge = pce_ridge.predict(x_test)"
   ]
  },
  {
   "cell_type": "markdown",
   "metadata": {},
   "source": [
    "Plot training data, true function and PCE surrogate"
   ]
  },
  {
   "cell_type": "code",
   "execution_count": null,
   "metadata": {},
   "outputs": [],
   "source": [
    "n_samples_ = 1000\n",
    "x_ = np.linspace(min(x_test), max(x_test), n_samples_)\n",
    "f = oakley_function(x_)\n",
    "\n",
    "plt.figure()\n",
    "plt.plot(x_test, y_test_lstsq, 'g', label='PCE predictor - LSTSQ')\n",
    "plt.plot(x_test, y_test_lasso, 'r', label='PCE predictor - LASSO')\n",
    "plt.plot(x_test, y_test_ridge, 'b', label='PCE predictor - Ridge')\n",
    "plt.scatter(x, y, label='training data')\n",
    "plt.plot(x_, f, 'm', label='function')\n",
    "plt.title('PCE surrogate - prediction accuracy')\n",
    "plt.legend(); plt.show()"
   ]
  },
  {
   "cell_type": "markdown",
   "metadata": {},
   "source": [
    "### Error Estimation"
   ]
  },
  {
   "cell_type": "markdown",
   "metadata": {},
   "source": [
    "Construct a validation dataset and get the validation error."
   ]
  },
  {
   "cell_type": "code",
   "execution_count": null,
   "metadata": {},
   "outputs": [],
   "source": [
    "# validation sample\n",
    "n_samples = 100000\n",
    "x_val = dist.rvs(n_samples)\n",
    "y_val = oakley_function(x_val).flatten()\n",
    "\n",
    "# PCE predictions\n",
    "y_pce_lstsq = pce_lstsq.predict(x_val).flatten()\n",
    "y_pce_lasso = pce_lasso.predict(x_val).flatten()\n",
    "y_pce_ridge = pce_ridge.predict(x_val).flatten()\n",
    "\n",
    "# mean absolute errors\n",
    "error_lstsq = np.sum(np.abs(y_val - y_pce_lstsq))/n_samples\n",
    "error_lasso = np.sum(np.abs(y_val - y_pce_lasso))/n_samples\n",
    "error_ridge = np.sum(np.abs(y_val - y_pce_ridge))/n_samples\n",
    "\n",
    "print('Mean absolute error from least squares regression is: ', error_lstsq)\n",
    "print('Mean absolute error from LASSO regression is: ', error_lasso)\n",
    "print('Mean absolute error from ridge regression is: ', error_ridge)\n",
    "print(' ')\n",
    "\n",
    "# mean relative errors\n",
    "error_lstsq = np.sum( np.abs((y_val - y_pce_lstsq)/y_val) )/n_samples\n",
    "error_lasso = np.sum( np.abs((y_val - y_pce_lasso)/y_val) )/n_samples\n",
    "error_ridge = np.sum( np.abs((y_val - y_pce_ridge)/y_val) )/n_samples\n",
    "\n",
    "print('Mean relative error from least squares regression is: ', error_lstsq)\n",
    "print('Mean relative error from LASSO regression is: ', error_lasso)\n",
    "print('Mean relative error from ridge regression is: ', error_ridge)\n"
   ]
  },
  {
   "cell_type": "markdown",
   "metadata": {},
   "source": [
    "### Moment Estimation"
   ]
  },
  {
   "cell_type": "markdown",
   "metadata": {},
   "source": [
    "Returns mean and variance of the PCE surrogate."
   ]
  },
  {
   "cell_type": "code",
   "execution_count": null,
   "metadata": {},
   "outputs": [],
   "source": [
    "n_mc = 1000000\n",
    "x_mc = dist.rvs(n_mc)  \n",
    "y_mc = oakley_function(x_mc)  \n",
    "mean_mc = np.mean(y_mc)\n",
    "var_mc = np.var(y_mc)\n",
    "\n",
    "print('Moments from least squares regression :', pce_mean(pce_lstsq), pce_variance(pce_lstsq))\n",
    "print('Moments from LASSO regression :', pce_mean(pce_lasso), pce_variance(pce_lasso))\n",
    "print('Moments from Ridge regression :', pce_mean(pce_ridge), pce_variance(pce_ridge))\n",
    "print('Moments from Monte Carlo integration: ', mean_mc, var_mc)"
   ]
  },
  {
   "cell_type": "code",
   "execution_count": null,
   "metadata": {},
   "outputs": [],
   "source": []
  }
 ],
 "metadata": {
  "kernelspec": {
   "display_name": "Python 3 (ipykernel)",
   "language": "python",
   "name": "python3"
  },
  "language_info": {
   "codemirror_mode": {
    "name": "ipython",
    "version": 3
   },
   "file_extension": ".py",
   "mimetype": "text/x-python",
   "name": "python",
   "nbconvert_exporter": "python",
   "pygments_lexer": "ipython3",
   "version": "3.9.6"
  }
 },
 "nbformat": 4,
 "nbformat_minor": 4
}
