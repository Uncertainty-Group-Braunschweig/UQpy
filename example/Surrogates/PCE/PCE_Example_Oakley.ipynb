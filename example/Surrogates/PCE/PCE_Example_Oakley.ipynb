{
 "cells": [
  {
   "cell_type": "markdown",
   "metadata": {},
   "source": [
    "### Polynomial Chaos Expansion example: Oakley Function  (1 random input, scalar output)"
   ]
  },
  {
   "cell_type": "markdown",
   "metadata": {},
   "source": [
    "Authors: Katiana Kontolati, Dimitrios Loukrezis \\\n",
    "Date: May 6, 2021"
   ]
  },
  {
   "cell_type": "markdown",
   "metadata": {},
   "source": [
    "In this example, PCE is used to generate a surrogate model of a sinusoidal function with a single random input and a scalar output."
   ]
  },
  {
   "cell_type": "code",
   "execution_count": 1,
   "metadata": {},
   "outputs": [],
   "source": [
    "import numpy as np\n",
    "import matplotlib.pyplot as plt\n",
    "from UQpy.distributions import Normal\n",
    "from UQpy.surrogates import *\n"
   ]
  },
  {
   "cell_type": "markdown",
   "metadata": {},
   "source": [
    "Define the sinusoidal function to be approximated.\n",
    "\n",
    "Reference: Oakley, J. E., & O'Hagan, A. (2004). Probabilistic sensitivity analysis of complex models: a Bayesian approach. Journal of the Royal Statistical Society: Series B (Statistical Methodology), 66(3), 751-769."
   ]
  },
  {
   "cell_type": "code",
   "execution_count": 2,
   "metadata": {},
   "outputs": [],
   "source": [
    "def oakley_function(x):                                \n",
    "    return 5 + x + np.cos(x)"
   ]
  },
  {
   "cell_type": "markdown",
   "metadata": {},
   "source": [
    "Create a distribution object, generate samples and evaluate the function at the samples."
   ]
  },
  {
   "cell_type": "code",
   "execution_count": 3,
   "metadata": {},
   "outputs": [],
   "source": [
    "np.random.seed(1)\n",
    "\n",
    "dist = Normal(loc=0, scale=2)   \n",
    "n_samples = 100         \n",
    "x = dist.rvs(n_samples)  \n",
    "y = oakley_function(x)  "
   ]
  },
  {
   "cell_type": "markdown",
   "metadata": {},
   "source": [
    "Create an object from the PCE class, construct a total-degree polynomial basis given a maximum polynomial degree, and compute the PCE coefficients using least squares regression."
   ]
  },
  {
   "cell_type": "code",
   "execution_count": 4,
   "metadata": {},
   "outputs": [],
   "source": [
    "max_degree = 8\n",
    "polynomial_basis = PolynomialBasis.create_total_degree_basis(dist, max_degree)\n",
    "least_squares = LeastSquareRegression()\n",
    "pce_lstsq = PolynomialChaosExpansion(polynomial_basis=polynomial_basis, regression_method=least_squares)\n",
    "\n",
    "pce_lstsq.fit(x,y)"
   ]
  },
  {
   "cell_type": "markdown",
   "metadata": {},
   "source": [
    "Create an object from the PCE class, construct a total-degree polynomial basis given a maximum polynomial degree, and compute the PCE coefficients using LASSO regression."
   ]
  },
  {
   "cell_type": "code",
   "execution_count": 5,
   "metadata": {},
   "outputs": [],
   "source": [
    "polynomial_basis = PolynomialBasis.create_total_degree_basis(dist, max_degree)\n",
    "lasso = LassoRegression()\n",
    "pce_lasso = PolynomialChaosExpansion(polynomial_basis=polynomial_basis, regression_method=lasso)\n",
    "\n",
    "pce_lasso.fit(x,y)"
   ]
  },
  {
   "cell_type": "markdown",
   "metadata": {},
   "source": [
    "Create an object from the PCE class, construct a total-degree polynomial basis given a maximum polynomial degree, and compute the PCE coefficients using ridge regression."
   ]
  },
  {
   "cell_type": "code",
   "execution_count": 6,
   "metadata": {},
   "outputs": [],
   "source": [
    "polynomial_basis = PolynomialBasis.create_total_degree_basis(dist, max_degree)\n",
    "ridge = RidgeRegression()\n",
    "pce_ridge = PolynomialChaosExpansion(polynomial_basis=polynomial_basis, regression_method=ridge)\n",
    "\n",
    "pce_ridge.fit(x, y)"
   ]
  },
  {
   "cell_type": "markdown",
   "metadata": {},
   "source": [
    "PCE surrogate is used to predict the behavior of the function at new samples."
   ]
  },
  {
   "cell_type": "code",
   "execution_count": 7,
   "metadata": {},
   "outputs": [],
   "source": [
    "x_test = dist.rvs(100)\n",
    "x_test.sort(axis=0) \n",
    "\n",
    "y_test_lstsq = pce_lstsq.predict(x_test)\n",
    "y_test_lasso = pce_lasso.predict(x_test)\n",
    "y_test_ridge = pce_ridge.predict(x_test)"
   ]
  },
  {
   "cell_type": "markdown",
   "metadata": {},
   "source": [
    "Plot training data, true function and PCE surrogate"
   ]
  },
  {
   "cell_type": "code",
   "execution_count": 8,
   "metadata": {},
   "outputs": [
    {
     "data": {
      "image/png": "[encoded data removed]",
      "text/plain": [
       "<Figure size 432x288 with 1 Axes>"
      ]
     },
     "metadata": {
      "needs_background": "light"
     },
     "output_type": "display_data"
    }
   ],
   "source": [
    "n_samples_ = 1000\n",
    "x_ = np.linspace(min(x_test), max(x_test), n_samples_)\n",
    "f = oakley_function(x_)\n",
    "\n",
    "plt.figure()\n",
    "plt.plot(x_test, y_test_lstsq, 'g', label='PCE predictor - LSTSQ')\n",
    "plt.plot(x_test, y_test_lasso, 'r', label='PCE predictor - LASSO')\n",
    "plt.plot(x_test, y_test_ridge, 'b', label='PCE predictor - Ridge')\n",
    "plt.scatter(x, y, label='training data')\n",
    "plt.plot(x_, f, 'm', label='function')\n",
    "plt.title('PCE surrogate - prediction accuracy')\n",
    "plt.legend(); plt.show()"
   ]
  },
  {
   "cell_type": "markdown",
   "metadata": {},
   "source": [
    "### Error Estimation"
   ]
  },
  {
   "cell_type": "markdown",
   "metadata": {},
   "source": [
    "Construct a validation dataset and get the validation error."
   ]
  },
  {
   "cell_type": "code",
   "execution_count": 9,
   "metadata": {},
   "outputs": [
    {
     "name": "stdout",
     "output_type": "stream",
     "text": [
      "Mean absolute error from least squares regression is:  0.032177549242802694\n",
      "Mean absolute error from LASSO regression is:  0.04291817795897925\n",
      "Mean absolute error from ridge regression is:  0.05770880458789684\n",
      " \n",
      "Mean relative error from least squares regression is:  0.09155215604942216\n",
      "Mean relative error from LASSO regression is:  0.03806924174646668\n",
      "Mean relative error from ridge regression is:  0.04584157138058665\n"
     ]
    }
   ],
   "source": [
    "# validation sample\n",
    "n_samples = 100000\n",
    "x_val = dist.rvs(n_samples)\n",
    "y_val = oakley_function(x_val).flatten()\n",
    "\n",
    "# PCE predictions\n",
    "y_pce_lstsq = pce_lstsq.predict(x_val).flatten()\n",
    "y_pce_lasso = pce_lasso.predict(x_val).flatten()\n",
    "y_pce_ridge = pce_ridge.predict(x_val).flatten()\n",
    "\n",
    "# mean absolute errors\n",
    "error_lstsq = np.sum(np.abs(y_val - y_pce_lstsq))/n_samples\n",
    "error_lasso = np.sum(np.abs(y_val - y_pce_lasso))/n_samples\n",
    "error_ridge = np.sum(np.abs(y_val - y_pce_ridge))/n_samples\n",
    "\n",
    "print('Mean absolute error from least squares regression is: ', error_lstsq)\n",
    "print('Mean absolute error from LASSO regression is: ', error_lasso)\n",
    "print('Mean absolute error from ridge regression is: ', error_ridge)\n",
    "print(' ')\n",
    "\n",
    "# mean relative errors\n",
    "error_lstsq = np.sum( np.abs((y_val - y_pce_lstsq)/y_val) )/n_samples\n",
    "error_lasso = np.sum( np.abs((y_val - y_pce_lasso)/y_val) )/n_samples\n",
    "error_ridge = np.sum( np.abs((y_val - y_pce_ridge)/y_val) )/n_samples\n",
    "\n",
    "print('Mean relative error from least squares regression is: ', error_lstsq)\n",
    "print('Mean relative error from LASSO regression is: ', error_lasso)\n",
    "print('Mean relative error from ridge regression is: ', error_ridge)\n"
   ]
  },
  {
   "cell_type": "markdown",
   "metadata": {},
   "source": [
    "### Moment Estimation"
   ]
  },
  {
   "cell_type": "markdown",
   "metadata": {},
   "source": [
    "Returns mean and variance of the PCE surrogate."
   ]
  },
  {
   "cell_type": "code",
   "execution_count": 10,
   "metadata": {},
   "outputs": [
    {
     "name": "stdout",
     "output_type": "stream",
     "text": [
      "Moments from least squares regression : (5.1668, 6.5958)\n",
      "Moments from LASSO regression : (5.1096, 4.3654)\n",
      "Moments from Ridge regression : (5.0989, 4.2781)\n",
      "Moments from Monte Carlo integration:  5.136420440487339 4.4693295039275736\n"
     ]
    }
   ],
   "source": [
    "n_mc = 1000000\n",
    "x_mc = dist.rvs(n_mc)  \n",
    "y_mc = oakley_function(x_mc)  \n",
    "mean_mc = np.mean(y_mc)\n",
    "var_mc = np.var(y_mc)\n",
    "\n",
    "print('Moments from least squares regression :', pce_lstsq.get_moments())\n",
    "print('Moments from LASSO regression :', pce_lasso.get_moments())\n",
    "print('Moments from Ridge regression :', pce_ridge.get_moments())\n",
    "print('Moments from Monte Carlo integration: ', mean_mc, var_mc)"
   ]
  },
  {
   "cell_type": "code",
   "execution_count": null,
   "metadata": {},
   "outputs": [],
   "source": []
  }
 ],
 "metadata": {
  "kernelspec": {
   "display_name": "Python 3 (ipykernel)",
   "language": "python",
   "name": "python3"
  },
  "language_info": {
   "codemirror_mode": {
    "name": "ipython",
    "version": 3
   },
   "file_extension": ".py",
   "mimetype": "text/x-python",
   "name": "python",
   "nbconvert_exporter": "python",
   "pygments_lexer": "ipython3",
   "version": "3.9.6"
  }
 },
 "nbformat": 4,
 "nbformat_minor": 4
}
